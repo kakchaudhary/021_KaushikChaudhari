{
 "cells": [
  {
   "cell_type": "code",
   "execution_count": 1,
   "id": "4ba15969",
   "metadata": {},
   "outputs": [],
   "source": [
    "\n",
    "# importing modules\n",
    "import numpy as np\n",
    "import pandas as pd\n",
    "import matplotlib.pyplot as plt\n",
    "import sklearn"
   ]
  },
  {
   "cell_type": "code",
   "execution_count": 2,
   "id": "6007846e",
   "metadata": {},
   "outputs": [
    {
     "name": "stdout",
     "output_type": "stream",
     "text": [
      "\n",
      "Main Data :-\n",
      "       Unnamed: 0  Price   Age     KM FuelType   HP  MetColor  Automatic    CC  \\\n",
      "0              0  13500  23.0  46986   Diesel   90       1.0          0  2000   \n",
      "1              1  13750  23.0  72937   Diesel   90       1.0          0  2000   \n",
      "2              2  13950  24.0  41711   Diesel   90       NaN          0  2000   \n",
      "3              3  14950  26.0  48000   Diesel   90       0.0          0  2000   \n",
      "4              4  13750  30.0  38500   Diesel   90       0.0          0  2000   \n",
      "...          ...    ...   ...    ...      ...  ...       ...        ...   ...   \n",
      "1431        1431   7500   NaN  20544   Petrol   86       1.0          0  1300   \n",
      "1432        1432  10845  72.0     ??   Petrol   86       0.0          0  1300   \n",
      "1433        1433   8500   NaN  17016   Petrol   86       0.0          0  1300   \n",
      "1434        1434   7250  70.0     ??      NaN   86       1.0          0  1300   \n",
      "1435        1435   6950  76.0      1   Petrol  110       0.0          0  1600   \n",
      "\n",
      "      Doors  Weight  \n",
      "0     three    1165  \n",
      "1         3    1165  \n",
      "2         3    1165  \n",
      "3         3    1165  \n",
      "4         3    1170  \n",
      "...     ...     ...  \n",
      "1431      3    1025  \n",
      "1432      3    1015  \n",
      "1433      3    1015  \n",
      "1434      3    1015  \n",
      "1435      5    1114  \n",
      "\n",
      "[1436 rows x 11 columns]\n",
      "\n",
      "Main Data statistics:-\n",
      "         Unnamed: 0         Price          Age     MetColor    Automatic  \\\n",
      "count  1436.000000   1436.000000  1336.000000  1286.000000  1436.000000   \n",
      "mean    717.500000  10730.824513    55.672156     0.674961     0.055710   \n",
      "std     414.681806   3626.964585    18.589804     0.468572     0.229441   \n",
      "min       0.000000   4350.000000     1.000000     0.000000     0.000000   \n",
      "25%     358.750000   8450.000000    43.000000     0.000000     0.000000   \n",
      "50%     717.500000   9900.000000    60.000000     1.000000     0.000000   \n",
      "75%    1076.250000  11950.000000    70.000000     1.000000     0.000000   \n",
      "max    1435.000000  32500.000000    80.000000     1.000000     1.000000   \n",
      "\n",
      "                CC      Weight  \n",
      "count  1436.000000  1436.00000  \n",
      "mean   1566.827994  1072.45961  \n",
      "std     187.182436    52.64112  \n",
      "min    1300.000000  1000.00000  \n",
      "25%    1400.000000  1040.00000  \n",
      "50%    1600.000000  1070.00000  \n",
      "75%    1600.000000  1085.00000  \n",
      "max    2000.000000  1615.00000  \n"
     ]
    }
   ],
   "source": [
    "# Reading Data from csv file\n",
    "main_data = pd.read_csv(\"Exercise-CarData.csv\")\n",
    "print(\"\\nMain Data :-\\n\", main_data)\n",
    "\n",
    "print(\"\\nMain Data statistics:-\\n\", main_data.describe())"
   ]
  },
  {
   "cell_type": "code",
   "execution_count": 3,
   "id": "7a4223df",
   "metadata": {},
   "outputs": [
    {
     "name": "stdout",
     "output_type": "stream",
     "text": [
      "\n",
      "\n",
      "Input Data:- \n",
      " [[0 13500 23.0 ... 0 2000 'three']\n",
      " [1 13750 23.0 ... 0 2000 '3']\n",
      " [2 13950 24.0 ... 0 2000 '3']\n",
      " ...\n",
      " [1433 8500 nan ... 0 1300 '3']\n",
      " [1434 7250 70.0 ... 0 1300 '3']\n",
      " [1435 6950 76.0 ... 0 1600 '5']]\n",
      "\n",
      "\n",
      "Output Data:- \n",
      " [1165 1165 1165 ... 1015 1015 1114]\n",
      "\n",
      "\n",
      "X for transformation :- \n",
      " [[23.0 '46986' 'Diesel' '90']\n",
      " [23.0 '72937' 'Diesel' '90']\n",
      " [24.0 '41711' 'Diesel' '90']\n",
      " ...\n",
      " [nan '17016' 'Petrol' '86']\n",
      " [70.0 '??' nan '86']\n",
      " [76.0 '1' 'Petrol' '110']]\n"
     ]
    }
   ],
   "source": [
    "# Seprating Input and Output attributes from main data\n",
    "X = main_data.iloc[:, :-1].values \n",
    "Y = main_data.iloc[:, -1].values \n",
    "\n",
    "print(\"\\n\\nInput Data:- \\n\", X) \n",
    "print(\"\\n\\nOutput Data:- \\n\", Y) \n",
    "\n",
    "X_new = main_data.iloc[:, 2:6].values\n",
    "print(\"\\n\\nX for transformation :- \\n\", X_new)"
   ]
  },
  {
   "cell_type": "code",
   "execution_count": 4,
   "id": "fcf6c3f8",
   "metadata": {},
   "outputs": [
    {
     "name": "stdout",
     "output_type": "stream",
     "text": [
      "\n",
      "Imputer :- SimpleImputer()\n"
     ]
    }
   ],
   "source": [
    "# processing columns which are unused.\n",
    "from sklearn.impute import SimpleImputer\n",
    "\n",
    "# using the sklearn.impute => SimpleImputer\n",
    "imputer = SimpleImputer(missing_values = np.nan, strategy = \"mean\")\n",
    "imputer = imputer.fit(X[:, [2, 6]])\n",
    "print(f\"\\nImputer :- {imputer}\")"
   ]
  },
  {
   "cell_type": "code",
   "execution_count": 5,
   "id": "37978c28",
   "metadata": {},
   "outputs": [
    {
     "name": "stdout",
     "output_type": "stream",
     "text": [
      "\n",
      "\n",
      "X is :- [[0 13500 23.0 ... 0 2000 'three']\n",
      " [1 13750 23.0 ... 0 2000 '3']\n",
      " [2 13950 24.0 ... 0 2000 '3']\n",
      " ...\n",
      " [1433 8500 55.67215568862275 ... 0 1300 '3']\n",
      " [1434 7250 70.0 ... 0 1300 '3']\n",
      " [1435 6950 76.0 ... 0 1600 '5']]\n",
      "\n",
      "\n",
      "Imputer :- SimpleImputer(strategy='most_frequent')\n"
     ]
    }
   ],
   "source": [
    "# Transforming data for columns 2 to 6\n",
    "X[:, [2, 6]] = imputer.transform(X[:, [2, 6]])\n",
    "print(f\"\\n\\nX is :- {X}\")\n",
    "\n",
    "imputer = SimpleImputer(missing_values = np.nan, strategy = \"most_frequent\")\n",
    "\n",
    "imputer = imputer.fit(X[:, [4, 9]])\n",
    "print(f\"\\n\\nImputer :- {imputer}\")"
   ]
  },
  {
   "cell_type": "code",
   "execution_count": 6,
   "id": "9913fd2e",
   "metadata": {},
   "outputs": [
    {
     "name": "stdout",
     "output_type": "stream",
     "text": [
      "\n",
      "\n",
      "X is :- [[0 13500 23.0 ... 0 2000 'three']\n",
      " [1 13750 23.0 ... 0 2000 '3']\n",
      " [2 13950 24.0 ... 0 2000 '3']\n",
      " ...\n",
      " [1433 8500 55.67215568862275 ... 0 1300 '3']\n",
      " [1434 7250 70.0 ... 0 1300 '3']\n",
      " [1435 6950 76.0 ... 0 1600 '5']]\n"
     ]
    }
   ],
   "source": [
    "# Transforming data for columns 4 to 9\n",
    "X[:, [4, 9]] = imputer.transform(X[:, [4, 9]])\n",
    "print(f\"\\n\\nX is :- {X}\") "
   ]
  },
  {
   "cell_type": "code",
   "execution_count": 7,
   "id": "bc8894dc",
   "metadata": {},
   "outputs": [],
   "source": [
    "# MinMaxScaler and StandardScaler Libraries\n",
    "from sklearn.preprocessing import MinMaxScaler, StandardScaler\n",
    "\n",
    "X_temp = X[:, [1, 2, 6, 7, 8]]"
   ]
  },
  {
   "cell_type": "code",
   "execution_count": 8,
   "id": "a5326f96",
   "metadata": {},
   "outputs": [],
   "source": [
    "# building scaler object\n",
    "scaler = MinMaxScaler()"
   ]
  },
  {
   "cell_type": "code",
   "execution_count": 9,
   "id": "85bd2f18",
   "metadata": {},
   "outputs": [
    {
     "name": "stdout",
     "output_type": "stream",
     "text": [
      "\n",
      "\n",
      "Scaled _x :- [[0.3250444  0.27848101 1.         0.         1.        ]\n",
      " [0.3339254  0.27848101 1.         0.         1.        ]\n",
      " [0.3410302  0.29113924 0.67496112 0.         1.        ]\n",
      " ...\n",
      " [0.14742451 0.6920526  0.         0.         0.        ]\n",
      " [0.10301954 0.87341772 1.         0.         0.        ]\n",
      " [0.09236234 0.94936709 0.         0.         0.42857143]]\n"
     ]
    }
   ],
   "source": [
    "# scaling x_temp\n",
    "scaled_x = scaler.fit_transform(X_temp)\n",
    "print(f\"\\n\\nScaled _x :- {scaled_x}\")"
   ]
  },
  {
   "cell_type": "code",
   "execution_count": 10,
   "id": "60bff8d7",
   "metadata": {},
   "outputs": [
    {
     "name": "stdout",
     "output_type": "stream",
     "text": [
      "\n",
      "\n",
      "standard x :- [[ 7.63762679e-01 -1.82280225e+00  7.33305621e-01 -2.42893084e-01\n",
      "   2.31497633e+00]\n",
      " [ 8.32714853e-01 -1.82280225e+00  7.33305621e-01 -2.42893084e-01\n",
      "   2.31497633e+00]\n",
      " [ 8.87876592e-01 -1.76701156e+00  0.00000000e+00 -2.42893084e-01\n",
      "   2.31497633e+00]\n",
      " ...\n",
      " [-6.15280799e-01 -4.89326897e-16 -1.52274947e+00 -2.42893084e-01\n",
      "  -1.42599356e+00]\n",
      " [-9.60041669e-01  7.99360384e-01  7.33305621e-01 -2.42893084e-01\n",
      "  -1.42599356e+00]\n",
      " [-1.04278428e+00  1.13410455e+00 -1.52274947e+00 -2.42893084e-01\n",
      "   1.77279249e-01]]\n"
     ]
    }
   ],
   "source": [
    "# doing standard scaler\n",
    "stad = StandardScaler()\n",
    "std_x = stad.fit_transform(scaled_x)\n",
    "print(f\"\\n\\nstandard x :- {std_x}\")"
   ]
  },
  {
   "cell_type": "code",
   "execution_count": 11,
   "id": "246a1810",
   "metadata": {},
   "outputs": [],
   "source": [
    "# Labeling\n",
    "from sklearn import preprocessing\n",
    "\n",
    "label_encode = preprocessing.LabelEncoder()\n",
    "X[ : , 4] = label_encode.fit_transform(X[ : ,4])\n",
    "X[ : , 9] = label_encode.fit_transform(X[ : ,9])"
   ]
  },
  {
   "cell_type": "code",
   "execution_count": 12,
   "id": "509d34e0",
   "metadata": {},
   "outputs": [
    {
     "name": "stdout",
     "output_type": "stream",
     "text": [
      "\n",
      "\n",
      "Duplicate Data :-       2  3  4  5  five  four  three\n",
      "0     0  0  0  0     0     0      1\n",
      "1     0  1  0  0     0     0      0\n",
      "2     0  1  0  0     0     0      0\n",
      "3     0  1  0  0     0     0      0\n",
      "4     0  1  0  0     0     0      0\n",
      "...  .. .. .. ..   ...   ...    ...\n",
      "1431  0  1  0  0     0     0      0\n",
      "1432  0  1  0  0     0     0      0\n",
      "1433  0  1  0  0     0     0      0\n",
      "1434  0  1  0  0     0     0      0\n",
      "1435  0  0  0  1     0     0      0\n",
      "\n",
      "[1436 rows x 7 columns]\n"
     ]
    }
   ],
   "source": [
    "# dummy columns for Doors\n",
    "duplicate_data = pd.get_dummies(main_data['Doors'])\n",
    "print(f\"\\n\\nDuplicate Data :- {duplicate_data}\")\n",
    "main_data = main_data.drop(['Doors', ], axis = 1)\n",
    "main_data = pd.concat([duplicate_data, main_data], axis = 1)"
   ]
  },
  {
   "cell_type": "code",
   "execution_count": 18,
   "id": "b486b229",
   "metadata": {},
   "outputs": [
    {
     "name": "stdout",
     "output_type": "stream",
     "text": [
      "\n",
      "\n",
      "Data :-       Unnamed: 0  Price   Age     KM FuelType   HP  MetColor  Automatic    CC  \\\n",
      "0              0  13500  23.0  46986   Diesel   90       1.0          0  2000   \n",
      "1              1  13750  23.0  72937   Diesel   90       1.0          0  2000   \n",
      "2              2  13950  24.0  41711   Diesel   90       NaN          0  2000   \n",
      "3              3  14950  26.0  48000   Diesel   90       0.0          0  2000   \n",
      "4              4  13750  30.0  38500   Diesel   90       0.0          0  2000   \n",
      "...          ...    ...   ...    ...      ...  ...       ...        ...   ...   \n",
      "1431        1431   7500   NaN  20544   Petrol   86       1.0          0  1300   \n",
      "1432        1432  10845  72.0     ??   Petrol   86       0.0          0  1300   \n",
      "1433        1433   8500   NaN  17016   Petrol   86       0.0          0  1300   \n",
      "1434        1434   7250  70.0     ??      NaN   86       1.0          0  1300   \n",
      "1435        1435   6950  76.0      1   Petrol  110       0.0          0  1600   \n",
      "\n",
      "      Doors  Weight  \n",
      "0     three    1165  \n",
      "1         3    1165  \n",
      "2         3    1165  \n",
      "3         3    1165  \n",
      "4         3    1170  \n",
      "...     ...     ...  \n",
      "1431      3    1025  \n",
      "1432      3    1015  \n",
      "1433      3    1015  \n",
      "1434      3    1015  \n",
      "1435      5    1114  \n",
      "\n",
      "[1436 rows x 11 columns]\n",
      "\n",
      "\n"
     ]
    },
    {
     "data": {
      "image/png": "[encoded data removed]",
      "text/plain": [
       "<Figure size 432x288 with 2 Axes>"
      ]
     },
     "metadata": {
      "needs_background": "light"
     },
     "output_type": "display_data"
    },
    {
     "data": {
      "image/png": "[encoded data removed]",
      "text/plain": [
       "<Figure size 432x288 with 2 Axes>"
      ]
     },
     "metadata": {
      "needs_background": "light"
     },
     "output_type": "display_data"
    },
    {
     "data": {
      "image/png": "[encoded data removed]",
      "text/plain": [
       "<Figure size 432x288 with 2 Axes>"
      ]
     },
     "metadata": {
      "needs_background": "light"
     },
     "output_type": "display_data"
    },
    {
     "name": "stdout",
     "output_type": "stream",
     "text": [
      "\n",
      "\n",
      "Columns are [ True  True False  True  True  True  True]\n",
      "\n",
      "\n"
     ]
    }
   ],
   "source": [
    "\n",
    "import seaborn as sns\n",
    "from sklearn.preprocessing import LabelEncoder,OneHotEncoder\n",
    "import matplotlib.pyplot as plt\n",
    "\n",
    "data_corr = pd.read_csv('Exercise-CarData.csv')\n",
    "\n",
    "print(f\"\\n\\nData :- {data_corr}\\n\\n\")\n",
    "\n",
    "corr = data_corr.corr()\n",
    "corr.head()\n",
    "\n",
    "linewidths = 2\n",
    "linecolor = \"yellow\"\n",
    "\n",
    "sns.heatmap(corr)\n",
    "plt.show()\n",
    "sns.heatmap(corr, linewidths = linewidths, linecolor = linecolor)\n",
    "plt.show()\n",
    "sns.heatmap(corr, annot = True)\n",
    "plt.show()\n",
    "\n",
    "columns = np.full((corr.shape[0], ), True, dtype = bool)\n",
    "for i in range(corr.shape[0]):\n",
    "    for j in range(i + 1, corr.shape[0]):\n",
    "        if (corr.iloc[i, j] >= 0.9):\n",
    "            if (columns[j]):\n",
    "                columns[j] = False\n",
    "\n",
    "print(f\"\\n\\nColumns are {columns}\\n\\n\")\n",
    "\n"
   ]
  },
  {
   "cell_type": "code",
   "execution_count": null,
   "id": "541596bd",
   "metadata": {},
   "outputs": [],
   "source": []
  }
 ],
 "metadata": {
  "kernelspec": {
   "display_name": "Python 3",
   "language": "python",
   "name": "python3"
  },
  "language_info": {
   "codemirror_mode": {
    "name": "ipython",
    "version": 3
   },
   "file_extension": ".py",
   "mimetype": "text/x-python",
   "name": "python",
   "nbconvert_exporter": "python",
   "pygments_lexer": "ipython3",
   "version": "3.9.0"
  }
 },
 "nbformat": 4,
 "nbformat_minor": 5
}
