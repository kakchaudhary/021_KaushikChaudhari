{
  "nbformat": 4,
  "nbformat_minor": 0,
  "metadata": {
    "colab": {
      "name": "021_LAB09_2_SVM_MNIST.ipynb",
      "provenance": []
    },
    "kernelspec": {
      "name": "python3",
      "display_name": "Python 3"
    },
    "language_info": {
      "name": "python"
    }
  },
  "cells": [
    {
      "cell_type": "markdown",
      "metadata": {
        "id": "Z49DCWR8lRLY"
      },
      "source": [
        "### SVM classifier on MNIST dataset, compare the preformance of linear, polynomial and RBF kernels."
      ]
    },
    {
      "cell_type": "code",
      "metadata": {
        "id": "f2eZfgFNlWFv"
      },
      "source": [
        "import sys, os\n",
        "import numpy as np\n",
        "import matplotlib.pyplot as plt\n",
        "from sklearn import svm, metrics\n",
        "from sklearn.model_selection import train_test_split\n",
        "from sklearn.datasets import load_digits"
      ],
      "execution_count": 1,
      "outputs": []
    },
    {
      "cell_type": "code",
      "metadata": {
        "id": "aMZ4tC6dlYrC"
      },
      "source": [
        "digits = load_digits()"
      ],
      "execution_count": 2,
      "outputs": []
    },
    {
      "cell_type": "code",
      "metadata": {
        "colab": {
          "base_uri": "https://localhost:8080/"
        },
        "id": "c2YTNtBMld1G",
        "outputId": "dbf9f74f-1b05-4e37-d752-8e3f0d8050fe"
      },
      "source": [
        "digits.data.shape"
      ],
      "execution_count": 3,
      "outputs": [
        {
          "output_type": "execute_result",
          "data": {
            "text/plain": [
              "(1797, 64)"
            ]
          },
          "metadata": {},
          "execution_count": 3
        }
      ]
    },
    {
      "cell_type": "code",
      "metadata": {
        "colab": {
          "base_uri": "https://localhost:8080/"
        },
        "id": "tixvnRV-lgNu",
        "outputId": "12efa767-8e0d-4929-dacf-c9862572983e"
      },
      "source": [
        "print(digits.target)"
      ],
      "execution_count": 4,
      "outputs": [
        {
          "output_type": "stream",
          "name": "stdout",
          "text": [
            "[0 1 2 ... 8 9 8]\n"
          ]
        }
      ]
    },
    {
      "cell_type": "code",
      "metadata": {
        "id": "Fi02aYLvljNi"
      },
      "source": [
        "X_train, X_test, y_train, y_test = train_test_split(digits.data, digits.target, test_size = 0.3 ,random_state = 21)"
      ],
      "execution_count": 5,
      "outputs": []
    },
    {
      "cell_type": "markdown",
      "metadata": {
        "id": "VMJ4xEzllo-v"
      },
      "source": [
        "####Linear SVM Classifier"
      ]
    },
    {
      "cell_type": "code",
      "metadata": {
        "id": "LRsAL1-qllhf"
      },
      "source": [
        "lsc = svm.SVC(kernel='linear')"
      ],
      "execution_count": 6,
      "outputs": []
    },
    {
      "cell_type": "code",
      "metadata": {
        "colab": {
          "base_uri": "https://localhost:8080/"
        },
        "id": "nqJpD0zDlsxJ",
        "outputId": "037e00ca-69eb-47c9-8c67-fb71833d4ea8"
      },
      "source": [
        "lsc.fit(X_train, y_train)"
      ],
      "execution_count": 7,
      "outputs": [
        {
          "output_type": "execute_result",
          "data": {
            "text/plain": [
              "SVC(C=1.0, break_ties=False, cache_size=200, class_weight=None, coef0=0.0,\n",
              "    decision_function_shape='ovr', degree=3, gamma='scale', kernel='linear',\n",
              "    max_iter=-1, probability=False, random_state=None, shrinking=True,\n",
              "    tol=0.001, verbose=False)"
            ]
          },
          "metadata": {},
          "execution_count": 7
        }
      ]
    },
    {
      "cell_type": "code",
      "metadata": {
        "id": "0UzCLdVjl1hN"
      },
      "source": [
        "lin_y_pred = lsc.predict(X_test)"
      ],
      "execution_count": 8,
      "outputs": []
    },
    {
      "cell_type": "code",
      "metadata": {
        "colab": {
          "base_uri": "https://localhost:8080/"
        },
        "id": "0cbGjpOsl4db",
        "outputId": "2cb9057b-48a2-43a3-9c8e-4cade09a9e3e"
      },
      "source": [
        "print(\"Accuracy:\", metrics.accuracy_score(y_test, lin_y_pred))"
      ],
      "execution_count": 9,
      "outputs": [
        {
          "output_type": "stream",
          "name": "stdout",
          "text": [
            "Accuracy: 0.9833333333333333\n"
          ]
        }
      ]
    },
    {
      "cell_type": "markdown",
      "metadata": {
        "id": "pul09doyl6-X"
      },
      "source": [
        "####RBF SVM Classifier"
      ]
    },
    {
      "cell_type": "code",
      "metadata": {
        "id": "AonpOuX7l70U"
      },
      "source": [
        "rbf_svm = svm.SVC(kernel='rbf')"
      ],
      "execution_count": 10,
      "outputs": []
    },
    {
      "cell_type": "code",
      "metadata": {
        "colab": {
          "base_uri": "https://localhost:8080/"
        },
        "id": "heSt4uoEmAZ-",
        "outputId": "09ba5055-e15c-48cf-d8f7-9ff106667d01"
      },
      "source": [
        "rbf_svm.fit(X_train, y_train)"
      ],
      "execution_count": 11,
      "outputs": [
        {
          "output_type": "execute_result",
          "data": {
            "text/plain": [
              "SVC(C=1.0, break_ties=False, cache_size=200, class_weight=None, coef0=0.0,\n",
              "    decision_function_shape='ovr', degree=3, gamma='scale', kernel='rbf',\n",
              "    max_iter=-1, probability=False, random_state=None, shrinking=True,\n",
              "    tol=0.001, verbose=False)"
            ]
          },
          "metadata": {},
          "execution_count": 11
        }
      ]
    },
    {
      "cell_type": "code",
      "metadata": {
        "id": "ytAx55OomDEZ"
      },
      "source": [
        "rbf_y_pred = rbf_svm.predict(X_test)"
      ],
      "execution_count": 12,
      "outputs": []
    },
    {
      "cell_type": "code",
      "metadata": {
        "colab": {
          "base_uri": "https://localhost:8080/"
        },
        "id": "RwUw6h3AmFfb",
        "outputId": "41cd3532-22b0-40d1-a3b6-d9bd86a5b816"
      },
      "source": [
        "print(\"Accuracy:\", metrics.accuracy_score(y_test, rbf_y_pred))"
      ],
      "execution_count": 13,
      "outputs": [
        {
          "output_type": "stream",
          "name": "stdout",
          "text": [
            "Accuracy: 0.987037037037037\n"
          ]
        }
      ]
    },
    {
      "cell_type": "markdown",
      "metadata": {
        "id": "x-idxbvpmIjf"
      },
      "source": [
        "####Polynominal SVM Classifier"
      ]
    },
    {
      "cell_type": "code",
      "metadata": {
        "id": "r_54zjo9mJWC"
      },
      "source": [
        "p_svm = svm.SVC(kernel='poly')"
      ],
      "execution_count": 14,
      "outputs": []
    },
    {
      "cell_type": "code",
      "metadata": {
        "colab": {
          "base_uri": "https://localhost:8080/"
        },
        "id": "dV8cmC6kmNUr",
        "outputId": "6e0caacf-bd9d-4545-a9f5-66c2e91b22f4"
      },
      "source": [
        "p_svm.fit(X_train, y_train)"
      ],
      "execution_count": 15,
      "outputs": [
        {
          "output_type": "execute_result",
          "data": {
            "text/plain": [
              "SVC(C=1.0, break_ties=False, cache_size=200, class_weight=None, coef0=0.0,\n",
              "    decision_function_shape='ovr', degree=3, gamma='scale', kernel='poly',\n",
              "    max_iter=-1, probability=False, random_state=None, shrinking=True,\n",
              "    tol=0.001, verbose=False)"
            ]
          },
          "metadata": {},
          "execution_count": 15
        }
      ]
    },
    {
      "cell_type": "code",
      "metadata": {
        "id": "mFgHr_ncmPvC"
      },
      "source": [
        "poly_y_pred = p_svm.predict(X_test)"
      ],
      "execution_count": 16,
      "outputs": []
    },
    {
      "cell_type": "code",
      "metadata": {
        "colab": {
          "base_uri": "https://localhost:8080/"
        },
        "id": "BBqP2wF2mSUv",
        "outputId": "e34a04fe-3705-45b6-d4fd-5778f14444e5"
      },
      "source": [
        "print(\"Accuracy:\", metrics.accuracy_score(y_test, poly_y_pred))"
      ],
      "execution_count": 17,
      "outputs": [
        {
          "output_type": "stream",
          "name": "stdout",
          "text": [
            "Accuracy: 0.9888888888888889\n"
          ]
        }
      ]
    }
  ]
}