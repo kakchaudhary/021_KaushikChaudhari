{
  "nbformat": 4,
  "nbformat_minor": 0,
  "metadata": {
    "colab": {
      "name": "021_Lab_10_1_ANN_CNN.ipynb",
      "provenance": []
    },
    "kernelspec": {
      "name": "python3",
      "display_name": "Python 3"
    },
    "language_info": {
      "name": "python"
    }
  },
  "cells": [
    {
      "cell_type": "code",
      "metadata": {
        "id": "ld-pBl0zn2NR"
      },
      "source": [
        "# Import Libraries\n",
        "import matplotlib.pyplot as plt\n",
        "import numpy as np\n",
        "import pandas as pd\n",
        "\n",
        "import torch\n",
        "import torch.nn as nn\n",
        "from torch.autograd import Variable\n",
        "from torch.utils.data import DataLoader\n",
        "\n",
        "from sklearn.model_selection import train_test_split"
      ],
      "execution_count": 4,
      "outputs": []
    },
    {
      "cell_type": "code",
      "metadata": {
        "colab": {
          "base_uri": "https://localhost:8080/",
          "height": 264
        },
        "id": "nAIwLgygoAp_",
        "outputId": "2103117f-1097-4347-c007-fbcba826fcc0"
      },
      "source": [
        "from tensorflow.keras.datasets import mnist\n",
        "\n",
        "\n",
        "(features_train, targets_train), (features_test, targets_test) = mnist.load_data()\n",
        "\n",
        "# Convert to float32.\n",
        "\n",
        "features_train, features_test = np.array(features_train, np.float32), np.array(features_test, np.float32)\n",
        "\n",
        "# Flatten images to 1-D vector of 784 features (28*28).\n",
        "num_features=784\n",
        "\n",
        "features_train, features_test = features_train.reshape([-1, num_features]), features_test.reshape([-1, num_features])\n",
        "\n",
        "# Normalize images value from [0, 255] to [0, 1].\n",
        "\n",
        "features_train, features_test = features_train / 255., features_test / 255\n",
        "\n",
        "# create feature and targets tensor for train set. As you remember we need variable to accumulate gradients. \n",
        "#Therefore first we create tensor, then we will create variable\n",
        "featuresTrain = torch.from_numpy(features_train)\n",
        "targetsTrain = torch.from_numpy(targets_train).type(torch.LongTensor) # data type is long\n",
        "\n",
        "# create feature and targets tensor for test set.\n",
        "featuresTest = torch.from_numpy(features_test)\n",
        "targetsTest = torch.from_numpy(targets_test).type(torch.LongTensor) # data type is long\n",
        "\n",
        "# batch_size, epoch and iteration\n",
        "batch_size = 100\n",
        "n_iters = 5000\n",
        "num_epochs = n_iters / (len(features_train) / batch_size)\n",
        "num_epochs = int(num_epochs)\n",
        "\n",
        "# Pytorch train and test sets\n",
        "train = torch.utils.data.TensorDataset(featuresTrain,targetsTrain)\n",
        "test = torch.utils.data.TensorDataset(featuresTest,targetsTest)\n",
        "\n",
        "# data loader\n",
        "train_loader = DataLoader(train, batch_size = batch_size, shuffle = False)\n",
        "test_loader = DataLoader(test, batch_size = batch_size, shuffle = False)\n",
        "\n",
        "# visualize one of the images in data set\n",
        "plt.imshow(featuresTrain[10].reshape(28,28))\n",
        "plt.axis(\"off\")\n",
        "plt.title(str(targetsTrain[10]))\n",
        "plt.savefig('graph.png')\n",
        "plt.show()\n",
        "\n"
      ],
      "execution_count": 5,
      "outputs": [
        {
          "output_type": "display_data",
          "data": {
            "image/png": "[encoded data removed]",
            "text/plain": [
              "<Figure size 432x288 with 1 Axes>"
            ]
          },
          "metadata": {
            "needs_background": "light"
          }
        }
      ]
    },
    {
      "cell_type": "code",
      "metadata": {
        "id": "erjpPDmmodD9"
      },
      "source": [
        "# Create ANN Model\n",
        "class ANNModel(nn.Module):\n",
        "    \n",
        "    def __init__(self, input_dim, hidden_dim, output_dim):\n",
        "        super(ANNModel, self).__init__()\n",
        "        self.fc1 = nn.Linear(input_dim, hidden_dim) \n",
        "        self.relu1 = nn.ReLU()\n",
        "        self.fc2 = nn.Linear(hidden_dim, hidden_dim)\n",
        "        self.relu2 = nn.ReLU()\n",
        "        self.fc3 = nn.Linear(hidden_dim, hidden_dim)\n",
        "        self.relu3 = nn.ReLU()\n",
        "        self.fc4 = nn.Linear(hidden_dim, output_dim)\n",
        "    \n",
        "    def forward(self, x):\n",
        "        out = self.fc1(x)\n",
        "        out = self.relu1(out)\n",
        "        out = self.fc2(out)\n",
        "        out = self.relu2(out)\n",
        "        out = self.fc3(out)\n",
        "        out = self.relu3(out)\n",
        "        out = self.fc4(out)\n",
        "        return (out)\n",
        "\n",
        "# instantiate ANN\n",
        "input_dim = 28*28\n",
        "hidden_dim = 120 \n",
        "output_dim = 10\n",
        "\n",
        "# Create ANN\n",
        "model = ANNModel(input_dim, hidden_dim, output_dim)\n",
        "\n",
        "# Cross Entropy Loss \n",
        "error = nn.CrossEntropyLoss()\n",
        "\n",
        "# SGD Optimizer\n",
        "learning_rate = 0.02\n",
        "optimizer = torch.optim.SGD(model.parameters(), lr=learning_rate)"
      ],
      "execution_count": 7,
      "outputs": []
    },
    {
      "cell_type": "code",
      "metadata": {
        "colab": {
          "base_uri": "https://localhost:8080/"
        },
        "id": "Il7JUW0UpIcP",
        "outputId": "bf8e9e70-c635-4c9b-9377-b9f4fac6fad2"
      },
      "source": [
        "# ANN model training\n",
        "count = 0\n",
        "loss_list = []\n",
        "iteration_list = []\n",
        "accuracy_list = []\n",
        "for epoch in range(num_epochs):\n",
        "    for i, (images, labels) in enumerate(train_loader):\n",
        "\n",
        "        train = Variable(images.view(-1, 28*28))\n",
        "        labels = Variable(labels)\n",
        "        \n",
        "        # Clear gradients\n",
        "        optimizer.zero_grad()\n",
        "        \n",
        "        # Forward propagation\n",
        "        outputs = model(train)\n",
        "        \n",
        "        # Calculate softmax and ross entropy loss\n",
        "        loss = error(outputs, labels)\n",
        "        \n",
        "        # Calculating gradients\n",
        "        loss.backward()\n",
        "        \n",
        "        # Update parameters\n",
        "        optimizer.step()\n",
        "        \n",
        "        count += 1\n",
        "        \n",
        "        if count % 50 == 0:\n",
        "            # Calculate Accuracy         \n",
        "            correct = 0\n",
        "            total = 0\n",
        "            # Predict test dataset\n",
        "            for images, labels in test_loader:\n",
        "\n",
        "                test = Variable(images.view(-1, 28*28))\n",
        "                \n",
        "                # Forward propagation\n",
        "                outputs = model(test)\n",
        "                \n",
        "                # Get predictions from the maximum value\n",
        "                predicted = torch.max(outputs.data, 1)[1]\n",
        "                \n",
        "                # Total number of labels\n",
        "                total += len(labels)\n",
        "\n",
        "                # Total correct predictions\n",
        "                correct += (predicted == labels).sum()\n",
        "            \n",
        "            accuracy = 100 * correct / float(total)\n",
        "            \n",
        "            # store loss and iteration\n",
        "            loss_list.append(loss.data)\n",
        "            iteration_list.append(count)\n",
        "            accuracy_list.append(accuracy)\n",
        "        if count % 500 == 0:\n",
        "            # Print Loss\n",
        "            print('Iteration: {}  Loss: {}  Accuracy: {} %'.format(count, loss.data, accuracy))"
      ],
      "execution_count": 8,
      "outputs": [
        {
          "output_type": "stream",
          "name": "stdout",
          "text": [
            "Iteration: 500  Loss: 1.8102972507476807  Accuracy: 54.79999923706055 %\n",
            "Iteration: 1000  Loss: 0.6125426292419434  Accuracy: 85.4800033569336 %\n",
            "Iteration: 1500  Loss: 0.6115759015083313  Accuracy: 88.22000122070312 %\n",
            "Iteration: 2000  Loss: 0.2982482612133026  Accuracy: 89.55999755859375 %\n",
            "Iteration: 2500  Loss: 0.2273489534854889  Accuracy: 90.69999694824219 %\n",
            "Iteration: 3000  Loss: 0.35141098499298096  Accuracy: 91.47000122070312 %\n",
            "Iteration: 3500  Loss: 0.22648470103740692  Accuracy: 92.22000122070312 %\n",
            "Iteration: 4000  Loss: 0.24998195469379425  Accuracy: 93.33000183105469 %\n",
            "Iteration: 4500  Loss: 0.3582232594490051  Accuracy: 93.33999633789062 %\n"
          ]
        }
      ]
    },
    {
      "cell_type": "code",
      "metadata": {
        "colab": {
          "base_uri": "https://localhost:8080/",
          "height": 541
        },
        "id": "OORqoK8VpPvR",
        "outputId": "c4165f08-1cef-40b1-fee1-a40396cb7bca"
      },
      "source": [
        "# visualization loss \n",
        "plt.plot(iteration_list,loss_list,color = \"red\")\n",
        "plt.xlabel(\"Number of iteration\")\n",
        "plt.ylabel(\"Loss\")\n",
        "plt.show()\n",
        "\n",
        "# visualization accuracy \n",
        "plt.plot(iteration_list,accuracy_list,color = \"green\")\n",
        "plt.xlabel(\"Number of iteration\")\n",
        "plt.ylabel(\"Accuracy\")\n",
        "plt.show()"
      ],
      "execution_count": 11,
      "outputs": [
        {
          "output_type": "display_data",
          "data": {
            "image/png": "[encoded data removed]",
            "text/plain": [
              "<Figure size 432x288 with 1 Axes>"
            ]
          },
          "metadata": {
            "needs_background": "light"
          }
        },
        {
          "output_type": "display_data",
          "data": {
            "image/png": "[encoded data removed]",
            "text/plain": [
              "<Figure size 432x288 with 1 Axes>"
            ]
          },
          "metadata": {
            "needs_background": "light"
          }
        }
      ]
    },
    {
      "cell_type": "code",
      "metadata": {
        "id": "-gDE21mOqx-4"
      },
      "source": [
        "# Create CNN Model\n",
        "class CNNModel(nn.Module):\n",
        "    def __init__(self):\n",
        "        super(CNNModel, self).__init__()\n",
        "      \n",
        "        #### DESIGN LAYERS :\n",
        "        ### SEQUENCE: CONV1,ACTIVATION1,POOLING1,  CONV2,ACTIVATION2,POOLING2, LINEAR(FC)\n",
        "        self.cnn1 = nn.Conv2d(in_channels=1, out_channels=16, kernel_size=5, stride=1, padding=0)\n",
        "        self.relu1 = nn.ReLU()\n",
        "        self.maxpool1 = nn.MaxPool2d(kernel_size=2)\n",
        "        self.cnn2 = nn.Conv2d(in_channels=16, out_channels=32, kernel_size=5, stride=1, padding=0)\n",
        "        self.relu2 = nn.ReLU()\n",
        "        self.maxpool2 = nn.MaxPool2d(kernel_size=2)\n",
        "        self.fc1 = nn.Linear(32 * 4 * 4, 10)\n",
        "\n",
        "\n",
        "    def forward(self, x):\n",
        "        # COMBINE LAYERS\n",
        "        ## 1) CONV1\n",
        "        out = self.cnn1(x)\n",
        "\n",
        "        ## 2) ACTIVATION1\n",
        "        out = self.relu1(out)\n",
        "\n",
        "        ## 3) POOLING1\n",
        "        out = self.maxpool1(out)\n",
        "       \n",
        "        ## 4) CONV2\n",
        "        out = self.cnn2(out)\n",
        "\n",
        "        ## 5) ACTIVATION2\n",
        "        out = self.relu2(out)\n",
        "\n",
        "        ## 6) POOLING2\n",
        "        out = self.maxpool2(out)\n",
        "\n",
        "        ## 7) flatten ########## DURING LAB WE JUST FORGOT FOLLOWING FLATTEN LAYER ###############\n",
        "        out = out.view(out.size(0), -1)\n",
        "\n",
        "        ## 8) LINEAR(FC)\n",
        "        out = self.fc1(out)\n",
        "        \n",
        "        return out\n",
        "\n",
        "\n",
        "# batch_size, epoch and iteration\n",
        "batch_size = 100\n",
        "n_iters = 2500\n",
        "num_epochs = n_iters / (len(features_train) / batch_size)\n",
        "num_epochs = int(num_epochs)\n",
        "\n",
        "# Pytorch train and test sets\n",
        "train = torch.utils.data.TensorDataset(featuresTrain,targetsTrain)\n",
        "test = torch.utils.data.TensorDataset(featuresTest,targetsTest)\n",
        "\n",
        "# data loader\n",
        "train_loader = torch.utils.data.DataLoader(train, batch_size = batch_size, shuffle = False)\n",
        "test_loader = torch.utils.data.DataLoader(test, batch_size = batch_size, shuffle = False)\n",
        "    \n",
        "# Create CNN\n",
        "model = CNNModel()\n",
        "\n",
        "# Cross Entropy Loss \n",
        "error = nn.CrossEntropyLoss()\n",
        "\n",
        "# SGD Optimizer\n",
        "learning_rate = 0.1\n",
        "optimizer = torch.optim.SGD(model.parameters(), lr=learning_rate)\n"
      ],
      "execution_count": 12,
      "outputs": []
    },
    {
      "cell_type": "code",
      "metadata": {
        "colab": {
          "base_uri": "https://localhost:8080/"
        },
        "id": "xSlA5dQoq5An",
        "outputId": "6c2ad9bf-b08e-4395-c4a7-ae7254089614"
      },
      "source": [
        "# CNN model training\n",
        "count = 0\n",
        "loss_list = []\n",
        "iteration_list = []\n",
        "accuracy_list = []\n",
        "for epoch in range(num_epochs):\n",
        "    for i, (images, labels) in enumerate(train_loader):\n",
        "        \n",
        "        train = Variable(images.view(100,1,28,28))\n",
        "        labels = Variable(labels)\n",
        "        \n",
        "        # Clear gradients\n",
        "        optimizer.zero_grad()\n",
        "        \n",
        "        # Forward propagation\n",
        "        outputs = model(train)\n",
        "        \n",
        "        # Calculate softmax and ross entropy loss\n",
        "        loss = error(outputs, labels)\n",
        "        \n",
        "        # Calculating gradients\n",
        "        loss.backward()     \n",
        "        \n",
        "        # Update parameters\n",
        "        optimizer.step()    \n",
        "        \n",
        "        count += 1\n",
        "        \n",
        "        if count % 50 == 0:\n",
        "            # Calculate Accuracy         \n",
        "            correct = 0\n",
        "            total = 0\n",
        "            # Iterate through test dataset\n",
        "            for images, labels in test_loader:\n",
        "                \n",
        "                test = Variable(images.view(100,1,28,28))\n",
        "                \n",
        "                # Forward propagation\n",
        "                outputs = model(test)\n",
        "                \n",
        "                # Get predictions from the maximum value\n",
        "                predicted = torch.max(outputs.data, 1)[1]\n",
        "                \n",
        "                # Total number of labels\n",
        "                total += len(labels)\n",
        "                \n",
        "                correct += (predicted == labels).sum()\n",
        "            \n",
        "            accuracy = 100 * correct / float(total)\n",
        "            \n",
        "            # store loss and iteration\n",
        "            loss_list.append(loss.data)\n",
        "            iteration_list.append(count)\n",
        "            accuracy_list.append(accuracy)\n",
        "        if count % 500 == 0:\n",
        "            # Print Loss\n",
        "            print('Iteration: {}  Loss: {}  Accuracy: {} %'.format(count, loss.data, accuracy))"
      ],
      "execution_count": 13,
      "outputs": [
        {
          "output_type": "stream",
          "name": "stderr",
          "text": [
            "/usr/local/lib/python3.7/dist-packages/torch/nn/functional.py:718: UserWarning: Named tensors and all their associated APIs are an experimental feature and subject to change. Please do not use them for anything important until they are released as stable. (Triggered internally at  /pytorch/c10/core/TensorImpl.h:1156.)\n",
            "  return torch.max_pool2d(input, kernel_size, stride, padding, dilation, ceil_mode)\n"
          ]
        },
        {
          "output_type": "stream",
          "name": "stdout",
          "text": [
            "Iteration: 500  Loss: 0.15111976861953735  Accuracy: 96.87000274658203 %\n",
            "Iteration: 1000  Loss: 0.049218546599149704  Accuracy: 97.87999725341797 %\n",
            "Iteration: 1500  Loss: 0.03841729834675789  Accuracy: 98.3499984741211 %\n",
            "Iteration: 2000  Loss: 0.0715678483247757  Accuracy: 98.13999938964844 %\n"
          ]
        }
      ]
    },
    {
      "cell_type": "code",
      "metadata": {
        "colab": {
          "base_uri": "https://localhost:8080/",
          "height": 541
        },
        "id": "Co83Fbn_rAKy",
        "outputId": "e8bde22f-64ea-453b-b7f4-6e7737db164a"
      },
      "source": [
        "# visualization loss \n",
        "plt.plot(iteration_list,loss_list,color=\"red\")\n",
        "plt.xlabel(\"Number of iteration\")\n",
        "plt.ylabel(\"Loss\")\n",
        "plt.show()\n",
        "\n",
        "# visualization accuracy \n",
        "plt.plot(iteration_list,accuracy_list,color = \"green\")\n",
        "plt.xlabel(\"Number of iteration\")\n",
        "plt.ylabel(\"Accuracy\")\n",
        "plt.show()"
      ],
      "execution_count": 14,
      "outputs": [
        {
          "output_type": "display_data",
          "data": {
            "image/png": "[encoded data removed]",
            "text/plain": [
              "<Figure size 432x288 with 1 Axes>"
            ]
          },
          "metadata": {
            "needs_background": "light"
          }
        },
        {
          "output_type": "display_data",
          "data": {
            "image/png": "[encoded data removed]",
            "text/plain": [
              "<Figure size 432x288 with 1 Axes>"
            ]
          },
          "metadata": {
            "needs_background": "light"
          }
        }
      ]
    },
    {
      "cell_type": "markdown",
      "metadata": {
        "id": "oThSWjpyrHhF"
      },
      "source": [
        "Try CNN on \"Fruit\" dataset. Also modify number of layers and observe the performance difference: \n",
        "\n",
        "https://www.kaggle.com/moltean/fruits\n",
        "\n",
        "\n",
        "Or (In a case if you don't have that much dataPack available, download 20 images of apple and 20 images of orange from the internet and work on it with RANDOM state=Rollnumber stratergy, 80-20% training-testing division)\n"
      ]
    }
  ]
}