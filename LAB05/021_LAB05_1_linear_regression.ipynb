{
 "cells": [
  {
   "cell_type": "code",
   "execution_count": 1,
   "metadata": {
    "_cell_guid": "79c7e3d0-c299-4dcb-8224-4455121ee9b0",
    "_uuid": "d629ff2d2480ee46fbb7e2d37f6b5fab8052498a",
    "id": "v0BtAX1--7l_"
   },
   "outputs": [],
   "source": [
    "# Import Numpy & PyTorch\n",
    "import numpy as np"
   ]
  },
  {
   "cell_type": "markdown",
   "metadata": {
    "_uuid": "34f006aa7eb4bbc683c39b7059021da900180908",
    "id": "tUurNfvF-7mc"
   },
   "source": [
    "A tensor is a number, vector, matrix or any n-dimensional array."
   ]
  },
  {
   "cell_type": "markdown",
   "metadata": {
    "_uuid": "0b65b6bb4d15127b1d51f09abf616cfd29fa48b4",
    "id": "DAOgSWEp-7oF"
   },
   "source": [
    "## Problem Statement"
   ]
  },
  {
   "cell_type": "markdown",
   "metadata": {
    "_uuid": "c1beecda01bc332596edd193cade30006e3f6cbf",
    "id": "-Fi1M6pd-7oJ"
   },
   "source": [
    "We'll create a model that predicts crop yeilds for apples (*target variable*) by looking at the average temperature, rainfall and humidity (*input variables or features*) in different regions. \n",
    "\n",
    "Here's the training data:\n",
    "\n",
    ">Temp | Rain | Humidity | Prediction\n",
    ">--- | --- | --- | ---\n",
    "> 73 | 67 | 43 | 56\n",
    "> 91 | 88 | 64 | 81\n",
    "> 87 | 134 | 58 | 119\n",
    "> 102 | 43 | 37 | 22\n",
    "> 69 | 96 | 70 | 103\n",
    "\n",
    "In a **linear regression** model, each target variable is estimated to be a weighted sum of the input variables, offset by some constant, known as a bias :\n",
    "\n",
    "```\n",
    "yeild_apple  = w11 * temp + w12 * rainfall + w13 * humidity + b1\n",
    "```\n",
    "\n",
    "It means that the yield of apples is a linear or planar function of the temperature, rainfall & humidity.\n",
    "\n",
    "\n",
    "\n",
    "**Our objective**: Find a suitable set of *weights* and *biases* using the training data, to make accurate predictions."
   ]
  },
  {
   "cell_type": "markdown",
   "metadata": {
    "_uuid": "c24b8195c0e9c6e8e13e169d264484f1f9b3b1ae",
    "id": "h0dmV2Fc-7oL"
   },
   "source": [
    "## Training Data\n",
    "The training data can be represented using 2 matrices (inputs and targets), each with one row per observation and one column for variable."
   ]
  },
  {
   "cell_type": "code",
   "execution_count": 2,
   "metadata": {
    "_uuid": "dfda99005fc6daf3a49ae1cdd427ccac0aa446b1",
    "id": "MaIf33bV-7oN"
   },
   "outputs": [],
   "source": [
    "# Input (temp, rainfall, humidity)\n",
    "X = np.array([[73, 67, 43], \n",
    "                   [91, 88, 64], \n",
    "                   [87, 134, 58], \n",
    "                   [102, 43, 37], \n",
    "                   [69, 96, 70]], dtype='float32')"
   ]
  },
  {
   "cell_type": "code",
   "execution_count": 3,
   "metadata": {
    "_uuid": "bf56faf74f7e29c9ed7523308718a9ab1acc0667",
    "id": "1tnPriBD-7oa"
   },
   "outputs": [],
   "source": [
    "# Target (apples)\n",
    "Y = np.array([[56], \n",
    "                    [81], \n",
    "                    [119], \n",
    "                    [22], \n",
    "                    [103]], dtype='float32')"
   ]
  },
  {
   "cell_type": "markdown",
   "metadata": {
    "_uuid": "70d48f83ae4fce7aba7dd78fd58dddc77c598bfd",
    "id": "MyJm3YtE-7oo"
   },
   "source": [
    "Before we build a model, we need to convert inputs and targets to PyTorch tensors."
   ]
  },
  {
   "cell_type": "markdown",
   "metadata": {
    "_uuid": "652647cd90bd0784ec4dc53472410f7358ee18c9",
    "id": "y0RLCJnb-7o4"
   },
   "source": [
    "## Linear Regression Model (from scratch)\n",
    "\n",
    "The *weights* and *biases* can also be represented as matrices, initialized with random values. The first row of `w` and the first element of `b` are use to predict the first target variable i.e. yield for apples, and similarly the second for oranges."
   ]
  },
  {
   "cell_type": "markdown",
   "metadata": {
    "_uuid": "3579a065997cae41f7f504916b6bc07878ac768c",
    "id": "8qNNejI9-7pH"
   },
   "source": [
    "The *model* is simply a function that performs a matrix multiplication of the input `x` and the weights `w` (transposed) and adds the bias `w0` (replicated for each observation).\n",
    "\n",
    "$$\n",
    "\\hspace{2.5cm} X \\hspace{1.1cm} \\times \\hspace{1.2cm} W^T \n",
    "$$\n",
    "\n",
    "$$\n",
    "\\left[ \\begin{array}{cc}\n",
    "1 & 73 & 67 & 43 \\\\\n",
    "1 &91 & 88 & 64 \\\\\n",
    "\\vdots & \\vdots & \\vdots & \\vdots \\\\\n",
    "1 &69 & 96 & 70\n",
    "\\end{array} \\right]\n",
    "%\n",
    "\\times\n",
    "%\n",
    "\\left[ \\begin{array}{cc}\n",
    "w_{0}  \\\\\n",
    "w_{1}  \\\\\n",
    "w_{2}  \\\\\n",
    "w_{3} \n",
    "\\end{array} \\right]\n",
    "%\n",
    "$$"
   ]
  },
  {
   "cell_type": "code",
   "execution_count": 4,
   "metadata": {
    "colab": {
     "base_uri": "https://localhost:8080/"
    },
    "id": "PKwdwlJIJbPe",
    "outputId": "b587a0c2-49ad-4811-9c00-e815a82cd296"
   },
   "outputs": [
    {
     "name": "stdout",
     "output_type": "stream",
     "text": [
      "(5, 4)\n"
     ]
    }
   ],
   "source": [
    "mu = np.mean(X, 0)\n",
    "sigma = np.std(X, 0)\n",
    "#normalizing the input\n",
    "X = (X-mu) / sigma\n",
    "X = np.hstack((np.ones((Y.size,1)),X))\n",
    "print(X.shape)"
   ]
  },
  {
   "cell_type": "code",
   "execution_count": 5,
   "metadata": {
    "colab": {
     "base_uri": "https://localhost:8080/"
    },
    "id": "OVDUM2JhKFnl",
    "outputId": "1962843e-6749-49f6-b8c2-243f78d3cc6b"
   },
   "outputs": [
    {
     "name": "stdout",
     "output_type": "stream",
     "text": [
      "[[0.25082446 0.94675294 0.18932038 0.17929141]]\n"
     ]
    }
   ],
   "source": [
    "\n",
    "# Weights and biases\n",
    "rg = np.random.default_rng(12)\n",
    "w = rg.random((1, 4))\n",
    "print(w)"
   ]
  },
  {
   "cell_type": "markdown",
   "metadata": {
    "_uuid": "2c4a9cf2b3c9152f2f832176bce9a87381e2419c",
    "id": "Q-NuYiwI-7p4"
   },
   "source": [
    "Because we've started with random weights and biases, the model does not perform a good job of predicting the target varaibles."
   ]
  },
  {
   "cell_type": "markdown",
   "metadata": {
    "_uuid": "edaae7266f5d47c5e970e1438a812f10d8d35fb4",
    "id": "hiNOZ2g1-7p7"
   },
   "source": [
    "## Loss Function\n",
    "\n",
    "We can compare the predictions with the actual targets, using the following method: \n",
    "* Calculate the difference between the two matrices (`preds` and `targets`).\n",
    "* Square all elements of the difference matrix to remove negative values.\n",
    "* Calculate the average of the elements in the resulting matrix.\n",
    "\n",
    "The result is a single number, known as the **mean squared error** (MSE)."
   ]
  },
  {
   "cell_type": "code",
   "execution_count": 6,
   "metadata": {
    "_uuid": "dbf5bca8cbf2a3831089b454c70469e3748e9682",
    "id": "_wY9fW06-7p9"
   },
   "outputs": [],
   "source": [
    "# MSE loss function\n",
    "def mse(t1, t2):\n",
    "    diff = t1 - t2\n",
    "    return np.sum(diff * diff) / diff.size"
   ]
  },
  {
   "cell_type": "markdown",
   "metadata": {
    "_uuid": "c61acf9c3cff205d769fc52ed3b1b76f5ae66233",
    "id": "kbQQKg0_-7qU"
   },
   "source": [
    "## Compute Gradients\n",
    "\n"
   ]
  },
  {
   "cell_type": "code",
   "execution_count": 7,
   "metadata": {
    "id": "0czgqf14rJCS"
   },
   "outputs": [],
   "source": [
    "# Define the model\n",
    "def model(x,w):\n",
    "    return x @ w.T"
   ]
  },
  {
   "cell_type": "code",
   "execution_count": 8,
   "metadata": {
    "_uuid": "ef66710c6ef1944567c4dc033e1ca316f35490ab",
    "id": "jMUIxzeO-7qW"
   },
   "outputs": [],
   "source": [
    "def gradient_descent(X, y, w, learning_rate, n_iters):\n",
    "    J_history = np.zeros((n_iters,1))\n",
    "    for i in range(n_iters):\n",
    "        h = model(X,w)\n",
    "        diff = h - y\n",
    "        delta = (learning_rate/Y.size)*(X.T@diff)\n",
    "        new_w = w - delta.T\n",
    "        w=new_w\n",
    "        J_history[i] = mse(h, y)\n",
    "    return (J_history, w)"
   ]
  },
  {
   "cell_type": "code",
   "execution_count": 9,
   "metadata": {
    "_uuid": "90da6779aad81608c40cdca77c3c04b68a815c11",
    "colab": {
     "base_uri": "https://localhost:8080/"
    },
    "id": "V__m5zOU-7qH",
    "outputId": "23abcadf-4ea2-4a80-fab0-90c47544e431"
   },
   "outputs": [
    {
     "name": "stdout",
     "output_type": "stream",
     "text": [
      "Cost before regression:  6961.124340607171\n"
     ]
    }
   ],
   "source": [
    "# Compute error\n",
    "preds = model(X,w)\n",
    "cost_initial = mse(preds, Y)\n",
    "print(\"Cost before regression: \",cost_initial)"
   ]
  },
  {
   "cell_type": "markdown",
   "metadata": {
    "_uuid": "5201901695f3ea13d7fdd5d985da7e0761c541d0",
    "id": "JvUhV8nQ-7s9"
   },
   "source": [
    "## Train for multiple iteration\n",
    "\n",
    "To reduce the loss further, we repeat the process of adjusting the weights and biases using the gradients multiple times. Each iteration is called an epoch."
   ]
  },
  {
   "cell_type": "code",
   "execution_count": 10,
   "metadata": {
    "_uuid": "9f5f0ffeee666b30c5828636359f0be6addbef7c",
    "colab": {
     "base_uri": "https://localhost:8080/"
    },
    "id": "rX0ZllBO-7tJ",
    "outputId": "2436b14b-ef40-45b7-8496-0d1918cbc1f6"
   },
   "outputs": [
    {
     "name": "stdout",
     "output_type": "stream",
     "text": [
      "Initial cost is:  6961.124340607171 \n",
      "\n",
      "Optimal parameters are: \n",
      " [[75.70097746 -4.33569711 23.97784973 10.64122441]] \n",
      "\n",
      "Final cost is:  [3.24336209]\n"
     ]
    }
   ],
   "source": [
    "import matplotlib.pyplot as plt\n",
    "n_iters = 500\n",
    "learning_rate = 0.01\n",
    "\n",
    "initial_cost = mse(model(X,w),Y)\n",
    "\n",
    "print(\"Initial cost is: \", initial_cost, \"\\n\")\n",
    "\n",
    "(J_history, optimal_params) = gradient_descent(X, Y, w, learning_rate, n_iters)\n",
    "\n",
    "print(\"Optimal parameters are: \\n\", optimal_params, \"\\n\")\n",
    "\n",
    "print(\"Final cost is: \", J_history[-1])\n"
   ]
  },
  {
   "cell_type": "code",
   "execution_count": 11,
   "metadata": {
    "colab": {
     "base_uri": "https://localhost:8080/",
     "height": 295
    },
    "id": "O-NfO3OWxjE1",
    "outputId": "2ad7e5c4-3e2c-4f15-8104-344ec0efa20f"
   },
   "outputs": [
    {
     "data": {
      "image/png": "[encoded data removed]",
      "text/plain": [
       "<Figure size 432x288 with 1 Axes>"
      ]
     },
     "metadata": {
      "needs_background": "light"
     },
     "output_type": "display_data"
    }
   ],
   "source": [
    "plt.plot(range(len(J_history)), J_history, 'r')\n",
    "\n",
    "plt.title(\"Convergence Graph of Cost Function\")\n",
    "plt.xlabel(\"Number of Iterations\")\n",
    "plt.ylabel(\"Cost\")\n",
    "plt.show()"
   ]
  },
  {
   "cell_type": "code",
   "execution_count": 12,
   "metadata": {
    "_uuid": "c4820ca48b78f4dc242d80a9ec3ec6aca1aef671",
    "colab": {
     "base_uri": "https://localhost:8080/"
    },
    "id": "ym2eslp8-7ta",
    "outputId": "d64c8bdd-b12f-4763-ee6e-feba1df1bee9"
   },
   "outputs": [
    {
     "name": "stdout",
     "output_type": "stream",
     "text": [
      "Prediction:\n",
      " [[ 55.41796548]\n",
      " [ 83.39462719]\n",
      " [116.02114736]\n",
      " [ 20.94681904]\n",
      " [102.72432753]]\n",
      "Targets:\n",
      " [[ 56.]\n",
      " [ 81.]\n",
      " [119.]\n",
      " [ 22.]\n",
      " [103.]]\n"
     ]
    }
   ],
   "source": [
    "# Calculate error\n",
    "preds = model(X,optimal_params)\n",
    "cost_final = mse(preds, Y)\n",
    "# Print predictions\n",
    "print(\"Prediction:\\n\",preds)\n",
    "# Comparing predicted with targets\n",
    "print(\"Targets:\\n\",Y)"
   ]
  },
  {
   "cell_type": "code",
   "execution_count": 13,
   "metadata": {
    "colab": {
     "base_uri": "https://localhost:8080/"
    },
    "id": "rDpoRp7CpfhQ",
    "outputId": "2c9617f7-990f-4874-e7c1-c3fb307981ac"
   },
   "outputs": [
    {
     "name": "stdout",
     "output_type": "stream",
     "text": [
      "Cost after linear regression:  3.2263504141825856\n",
      "Cost reduction percentage : 99.95365187782436 %\n"
     ]
    }
   ],
   "source": [
    "print(\"Cost after linear regression: \",cost_final)\n",
    "print(\"Cost reduction percentage : {} %\".format(((cost_initial- cost_final)/cost_initial)*100))"
   ]
  },
  {
   "cell_type": "code",
   "execution_count": null,
   "metadata": {},
   "outputs": [],
   "source": []
  }
 ],
 "metadata": {
  "colab": {
   "collapsed_sections": [
    "h0dmV2Fc-7oL"
   ],
   "name": "Lab_05_1_linear_regression.ipynb",
   "provenance": []
  },
  "kernelspec": {
   "display_name": "Python 3",
   "language": "python",
   "name": "python3"
  },
  "language_info": {
   "codemirror_mode": {
    "name": "ipython",
    "version": 3
   },
   "file_extension": ".py",
   "mimetype": "text/x-python",
   "name": "python",
   "nbconvert_exporter": "python",
   "pygments_lexer": "ipython3",
   "version": "3.9.0"
  }
 },
 "nbformat": 4,
 "nbformat_minor": 1
}
