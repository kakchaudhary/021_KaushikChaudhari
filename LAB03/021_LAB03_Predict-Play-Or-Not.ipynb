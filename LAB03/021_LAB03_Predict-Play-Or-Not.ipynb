{
 "cells": [
  {
   "cell_type": "code",
   "execution_count": 3,
   "id": "1ed83d06",
   "metadata": {},
   "outputs": [],
   "source": [
    "import numpy as np\n",
    "import pandas as pd\n",
    "import matplotlib.pyplot as plt\n",
    "\n",
    "from sklearn.preprocessing import OneHotEncoder\n",
    "from sklearn.naive_bayes import GaussianNB\n",
    "from sklearn.model_selection import train_test_split\n",
    "from sklearn.metrics import accuracy_score, confusion_matrix, precision_score, recall_score"
   ]
  },
  {
   "cell_type": "code",
   "execution_count": 4,
   "id": "d7597c83",
   "metadata": {},
   "outputs": [
    {
     "name": "stdout",
     "output_type": "stream",
     "text": [
      "No. of examples and features in the dataset are: (14, 5)\n"
     ]
    },
    {
     "data": {
      "text/html": [
       "<div>\n",
       "<style scoped>\n",
       "    .dataframe tbody tr th:only-of-type {\n",
       "        vertical-align: middle;\n",
       "    }\n",
       "\n",
       "    .dataframe tbody tr th {\n",
       "        vertical-align: top;\n",
       "    }\n",
       "\n",
       "    .dataframe thead th {\n",
       "        text-align: right;\n",
       "    }\n",
       "</style>\n",
       "<table border=\"1\" class=\"dataframe\">\n",
       "  <thead>\n",
       "    <tr style=\"text-align: right;\">\n",
       "      <th></th>\n",
       "      <th>Outlook</th>\n",
       "      <th>Temp</th>\n",
       "      <th>Humidity</th>\n",
       "      <th>Wind</th>\n",
       "      <th>Play</th>\n",
       "    </tr>\n",
       "  </thead>\n",
       "  <tbody>\n",
       "    <tr>\n",
       "      <th>0</th>\n",
       "      <td>R</td>\n",
       "      <td>H</td>\n",
       "      <td>Normal</td>\n",
       "      <td>F</td>\n",
       "      <td>N</td>\n",
       "    </tr>\n",
       "    <tr>\n",
       "      <th>1</th>\n",
       "      <td>R</td>\n",
       "      <td>H</td>\n",
       "      <td>High</td>\n",
       "      <td>T</td>\n",
       "      <td>N</td>\n",
       "    </tr>\n",
       "    <tr>\n",
       "      <th>2</th>\n",
       "      <td>O</td>\n",
       "      <td>H</td>\n",
       "      <td>Normal</td>\n",
       "      <td>F</td>\n",
       "      <td>Y</td>\n",
       "    </tr>\n",
       "    <tr>\n",
       "      <th>3</th>\n",
       "      <td>S</td>\n",
       "      <td>M</td>\n",
       "      <td>Normal</td>\n",
       "      <td>F</td>\n",
       "      <td>Y</td>\n",
       "    </tr>\n",
       "    <tr>\n",
       "      <th>4</th>\n",
       "      <td>S</td>\n",
       "      <td>C</td>\n",
       "      <td>Normal</td>\n",
       "      <td>F</td>\n",
       "      <td>Y</td>\n",
       "    </tr>\n",
       "  </tbody>\n",
       "</table>\n",
       "</div>"
      ],
      "text/plain": [
       "  Outlook Temp Humidity Wind Play\n",
       "0       R    H   Normal    F    N\n",
       "1       R    H     High    T    N\n",
       "2       O    H   Normal    F    Y\n",
       "3       S    M   Normal    F    Y\n",
       "4       S    C   Normal    F    Y"
      ]
     },
     "execution_count": 4,
     "metadata": {},
     "output_type": "execute_result"
    }
   ],
   "source": [
    "ds1 = pd.read_csv(r\"./Dataset1.csv\")\n",
    "print(\"No. of examples and features in the dataset are:\", ds1.shape)\n",
    "ds1.head()"
   ]
  },
  {
   "cell_type": "code",
   "execution_count": 5,
   "id": "6e2f3cdf",
   "metadata": {},
   "outputs": [
    {
     "name": "stdout",
     "output_type": "stream",
     "text": [
      "<class 'pandas.core.frame.DataFrame'>\n",
      "RangeIndex: 14 entries, 0 to 13\n",
      "Data columns (total 5 columns):\n",
      " #   Column    Non-Null Count  Dtype \n",
      "---  ------    --------------  ----- \n",
      " 0   Outlook   14 non-null     object\n",
      " 1   Temp      14 non-null     object\n",
      " 2   Humidity  14 non-null     object\n",
      " 3   Wind      14 non-null     object\n",
      " 4   Play      14 non-null     object\n",
      "dtypes: object(5)\n",
      "memory usage: 688.0+ bytes\n"
     ]
    },
    {
     "data": {
      "text/html": [
       "<div>\n",
       "<style scoped>\n",
       "    .dataframe tbody tr th:only-of-type {\n",
       "        vertical-align: middle;\n",
       "    }\n",
       "\n",
       "    .dataframe tbody tr th {\n",
       "        vertical-align: top;\n",
       "    }\n",
       "\n",
       "    .dataframe thead th {\n",
       "        text-align: right;\n",
       "    }\n",
       "</style>\n",
       "<table border=\"1\" class=\"dataframe\">\n",
       "  <thead>\n",
       "    <tr style=\"text-align: right;\">\n",
       "      <th></th>\n",
       "      <th>Outlook</th>\n",
       "      <th>Temp</th>\n",
       "      <th>Humidity</th>\n",
       "      <th>Wind</th>\n",
       "      <th>Play</th>\n",
       "    </tr>\n",
       "  </thead>\n",
       "  <tbody>\n",
       "    <tr>\n",
       "      <th>count</th>\n",
       "      <td>14</td>\n",
       "      <td>14</td>\n",
       "      <td>14</td>\n",
       "      <td>14</td>\n",
       "      <td>14</td>\n",
       "    </tr>\n",
       "    <tr>\n",
       "      <th>unique</th>\n",
       "      <td>3</td>\n",
       "      <td>3</td>\n",
       "      <td>3</td>\n",
       "      <td>2</td>\n",
       "      <td>2</td>\n",
       "    </tr>\n",
       "    <tr>\n",
       "      <th>top</th>\n",
       "      <td>R</td>\n",
       "      <td>M</td>\n",
       "      <td>Normal</td>\n",
       "      <td>F</td>\n",
       "      <td>Y</td>\n",
       "    </tr>\n",
       "    <tr>\n",
       "      <th>freq</th>\n",
       "      <td>5</td>\n",
       "      <td>6</td>\n",
       "      <td>8</td>\n",
       "      <td>8</td>\n",
       "      <td>9</td>\n",
       "    </tr>\n",
       "  </tbody>\n",
       "</table>\n",
       "</div>"
      ],
      "text/plain": [
       "       Outlook Temp Humidity Wind Play\n",
       "count       14   14       14   14   14\n",
       "unique       3    3        3    2    2\n",
       "top          R    M   Normal    F    Y\n",
       "freq         5    6        8    8    9"
      ]
     },
     "execution_count": 5,
     "metadata": {},
     "output_type": "execute_result"
    }
   ],
   "source": [
    "ds1.info()\n",
    "ds1.describe()"
   ]
  },
  {
   "cell_type": "code",
   "execution_count": 6,
   "id": "1a67fb35",
   "metadata": {},
   "outputs": [
    {
     "name": "stdout",
     "output_type": "stream",
     "text": [
      "Unique Outlook values:  ['R' 'O' 'S']\n",
      "Unique Temperature values:  ['H' 'M' 'C']\n",
      "Unique Humidity values:  ['Normal' 'High' 'Low']\n",
      "Unique Wind values:  ['F' 'T']\n",
      "'Play' Class Labels values:  ['N' 'Y']\n"
     ]
    }
   ],
   "source": [
    "print(\"Unique Outlook values: \", ds1['Outlook'].unique())\n",
    "print(\"Unique Temperature values: \", ds1['Temp'].unique())\n",
    "print(\"Unique Humidity values: \", ds1['Humidity'].unique())\n",
    "print(\"Unique Wind values: \", ds1['Wind'].unique())\n",
    "print(\"'Play' Class Labels values: \", ds1['Play'].unique())"
   ]
  },
  {
   "cell_type": "code",
   "execution_count": 7,
   "id": "12de98ed",
   "metadata": {},
   "outputs": [
    {
     "data": {
      "image/png": "[encoded data removed]",
      "text/plain": [
       "<Figure size 432x288 with 1 Axes>"
      ]
     },
     "metadata": {},
     "output_type": "display_data"
    }
   ],
   "source": [
    "pie_ch = ds1['Play'].value_counts().plot.pie(autopct = \"%1.1f%%\", radius = 1, startangle = 0)\n",
    "pie_ch.set_ylabel('')\n",
    "plt.show()"
   ]
  },
  {
   "cell_type": "code",
   "execution_count": 8,
   "id": "cb687481",
   "metadata": {},
   "outputs": [
    {
     "name": "stdout",
     "output_type": "stream",
     "text": [
      "\n",
      "Dataset 1 after concat:\n",
      "\n"
     ]
    },
    {
     "data": {
      "text/html": [
       "<div>\n",
       "<style scoped>\n",
       "    .dataframe tbody tr th:only-of-type {\n",
       "        vertical-align: middle;\n",
       "    }\n",
       "\n",
       "    .dataframe tbody tr th {\n",
       "        vertical-align: top;\n",
       "    }\n",
       "\n",
       "    .dataframe thead th {\n",
       "        text-align: right;\n",
       "    }\n",
       "</style>\n",
       "<table border=\"1\" class=\"dataframe\">\n",
       "  <thead>\n",
       "    <tr style=\"text-align: right;\">\n",
       "      <th></th>\n",
       "      <th>Outlook_O</th>\n",
       "      <th>Outlook_R</th>\n",
       "      <th>Outlook_S</th>\n",
       "      <th>Temp_C</th>\n",
       "      <th>Temp_H</th>\n",
       "      <th>Temp_M</th>\n",
       "      <th>Humidity_High</th>\n",
       "      <th>Humidity_Low</th>\n",
       "      <th>Humidity_Normal</th>\n",
       "      <th>Wind_F</th>\n",
       "      <th>Wind_T</th>\n",
       "      <th>Play</th>\n",
       "    </tr>\n",
       "  </thead>\n",
       "  <tbody>\n",
       "    <tr>\n",
       "      <th>0</th>\n",
       "      <td>0</td>\n",
       "      <td>1</td>\n",
       "      <td>0</td>\n",
       "      <td>0</td>\n",
       "      <td>1</td>\n",
       "      <td>0</td>\n",
       "      <td>0</td>\n",
       "      <td>0</td>\n",
       "      <td>1</td>\n",
       "      <td>1</td>\n",
       "      <td>0</td>\n",
       "      <td>N</td>\n",
       "    </tr>\n",
       "    <tr>\n",
       "      <th>1</th>\n",
       "      <td>0</td>\n",
       "      <td>1</td>\n",
       "      <td>0</td>\n",
       "      <td>0</td>\n",
       "      <td>1</td>\n",
       "      <td>0</td>\n",
       "      <td>1</td>\n",
       "      <td>0</td>\n",
       "      <td>0</td>\n",
       "      <td>0</td>\n",
       "      <td>1</td>\n",
       "      <td>N</td>\n",
       "    </tr>\n",
       "    <tr>\n",
       "      <th>2</th>\n",
       "      <td>1</td>\n",
       "      <td>0</td>\n",
       "      <td>0</td>\n",
       "      <td>0</td>\n",
       "      <td>1</td>\n",
       "      <td>0</td>\n",
       "      <td>0</td>\n",
       "      <td>0</td>\n",
       "      <td>1</td>\n",
       "      <td>1</td>\n",
       "      <td>0</td>\n",
       "      <td>Y</td>\n",
       "    </tr>\n",
       "    <tr>\n",
       "      <th>3</th>\n",
       "      <td>0</td>\n",
       "      <td>0</td>\n",
       "      <td>1</td>\n",
       "      <td>0</td>\n",
       "      <td>0</td>\n",
       "      <td>1</td>\n",
       "      <td>0</td>\n",
       "      <td>0</td>\n",
       "      <td>1</td>\n",
       "      <td>1</td>\n",
       "      <td>0</td>\n",
       "      <td>Y</td>\n",
       "    </tr>\n",
       "    <tr>\n",
       "      <th>4</th>\n",
       "      <td>0</td>\n",
       "      <td>0</td>\n",
       "      <td>1</td>\n",
       "      <td>1</td>\n",
       "      <td>0</td>\n",
       "      <td>0</td>\n",
       "      <td>0</td>\n",
       "      <td>0</td>\n",
       "      <td>1</td>\n",
       "      <td>1</td>\n",
       "      <td>0</td>\n",
       "      <td>Y</td>\n",
       "    </tr>\n",
       "  </tbody>\n",
       "</table>\n",
       "</div>"
      ],
      "text/plain": [
       "   Outlook_O  Outlook_R  Outlook_S  Temp_C  Temp_H  Temp_M  Humidity_High  \\\n",
       "0          0          1          0       0       1       0              0   \n",
       "1          0          1          0       0       1       0              1   \n",
       "2          1          0          0       0       1       0              0   \n",
       "3          0          0          1       0       0       1              0   \n",
       "4          0          0          1       1       0       0              0   \n",
       "\n",
       "   Humidity_Low  Humidity_Normal  Wind_F  Wind_T Play  \n",
       "0             0                1       1       0    N  \n",
       "1             0                0       0       1    N  \n",
       "2             0                1       1       0    Y  \n",
       "3             0                1       1       0    Y  \n",
       "4             0                1       1       0    Y  "
      ]
     },
     "execution_count": 8,
     "metadata": {},
     "output_type": "execute_result"
    }
   ],
   "source": [
    "dummy_ds1 = pd.get_dummies(ds1.iloc[:,:-1])\n",
    "\n",
    "cols = ds1.columns.tolist()\n",
    "cols.remove(\"Play\")\n",
    "\n",
    "ds1 = ds1.drop(cols, axis = 1)\n",
    "ds1 = pd.concat([dummy_ds1,ds1], axis = 1)\n",
    "\n",
    "print(\"\\nDataset 1 after concat:\\n\")\n",
    "ds1.head()"
   ]
  },
  {
   "cell_type": "code",
   "execution_count": 9,
   "id": "c039085c",
   "metadata": {},
   "outputs": [
    {
     "name": "stdout",
     "output_type": "stream",
     "text": [
      "\n",
      "Labels\n",
      "\n",
      "0     N\n",
      "1     N\n",
      "2     Y\n",
      "3     Y\n",
      "4     Y\n",
      "5     N\n",
      "6     Y\n",
      "7     N\n",
      "8     Y\n",
      "9     Y\n",
      "10    Y\n",
      "11    Y\n",
      "12    Y\n",
      "13    N\n",
      "Name: Play, dtype: object\n"
     ]
    }
   ],
   "source": [
    "print(\"\\nLabels\\n\")\n",
    "labels = ds1['Play']\n",
    "print(labels)"
   ]
  },
  {
   "cell_type": "code",
   "execution_count": 10,
   "id": "d7930d0f",
   "metadata": {},
   "outputs": [],
   "source": [
    "training_data, testing_data, training_target, testing_target = train_test_split(ds1.iloc[:,:-1], labels, test_size = 0.30, random_state = 21)"
   ]
  },
  {
   "cell_type": "code",
   "execution_count": 11,
   "id": "2473998c",
   "metadata": {},
   "outputs": [
    {
     "data": {
      "text/plain": [
       "GaussianNB()"
      ]
     },
     "execution_count": 11,
     "metadata": {},
     "output_type": "execute_result"
    }
   ],
   "source": [
    "gnb = GaussianNB()\n",
    "gnb.fit(training_data,training_target)"
   ]
  },
  {
   "cell_type": "code",
   "execution_count": 12,
   "id": "98c1bebf",
   "metadata": {},
   "outputs": [
    {
     "name": "stdout",
     "output_type": "stream",
     "text": [
      "Accuracy Score:\n",
      " 0.2\n",
      "\n",
      "Confusion Matrix:\n",
      " [[0 4]\n",
      " [0 1]]\n",
      "\n",
      "Precision Score:\n",
      " [0.  0.2]\n",
      "\n",
      "Recall Score:\n",
      " [0. 1.]\n"
     ]
    },
    {
     "name": "stderr",
     "output_type": "stream",
     "text": [
      "c:\\python39\\lib\\site-packages\\sklearn\\metrics\\_classification.py:1248: UndefinedMetricWarning: Precision is ill-defined and being set to 0.0 in labels with no predicted samples. Use `zero_division` parameter to control this behavior.\n",
      "  _warn_prf(average, modifier, msg_start, len(result))\n"
     ]
    }
   ],
   "source": [
    "# Testing\n",
    "prediction_target = gnb.predict(testing_data)\n",
    "\n",
    "# Getting Accuracy\n",
    "accuracy = accuracy_score(testing_target, prediction_target)\n",
    "print(\"Accuracy Score:\\n\", accuracy)\n",
    "\n",
    "# Getting Confusion Matrix\n",
    "cm = confusion_matrix(testing_target, prediction_target)\n",
    "print(\"\\nConfusion Matrix:\\n\",cm)\n",
    "\n",
    "# Getting Precision\n",
    "precision = precision_score(testing_target, prediction_target, average=None)\n",
    "print(\"\\nPrecision Score:\\n\", precision)\n",
    "\n",
    "# Getting Recall\n",
    "recall = recall_score(testing_target, prediction_target, average=None)\n",
    "print(\"\\nRecall Score:\\n\", recall)"
   ]
  },
  {
   "cell_type": "code",
   "execution_count": 13,
   "id": "e7768b27",
   "metadata": {},
   "outputs": [
    {
     "data": {
      "text/html": [
       "<div>\n",
       "<style scoped>\n",
       "    .dataframe tbody tr th:only-of-type {\n",
       "        vertical-align: middle;\n",
       "    }\n",
       "\n",
       "    .dataframe tbody tr th {\n",
       "        vertical-align: top;\n",
       "    }\n",
       "\n",
       "    .dataframe thead th {\n",
       "        text-align: right;\n",
       "    }\n",
       "</style>\n",
       "<table border=\"1\" class=\"dataframe\">\n",
       "  <thead>\n",
       "    <tr style=\"text-align: right;\">\n",
       "      <th></th>\n",
       "      <th>Outlook_O</th>\n",
       "      <th>Outlook_R</th>\n",
       "      <th>Outlook_S</th>\n",
       "      <th>Temp_C</th>\n",
       "      <th>Temp_H</th>\n",
       "      <th>Temp_M</th>\n",
       "      <th>Humidity_High</th>\n",
       "      <th>Humidity_Low</th>\n",
       "      <th>Humidity_Normal</th>\n",
       "      <th>Wind_F</th>\n",
       "      <th>Wind_T</th>\n",
       "    </tr>\n",
       "  </thead>\n",
       "  <tbody>\n",
       "    <tr>\n",
       "      <th>0</th>\n",
       "      <td>0</td>\n",
       "      <td>1</td>\n",
       "      <td>0</td>\n",
       "      <td>0</td>\n",
       "      <td>0</td>\n",
       "      <td>1</td>\n",
       "      <td>0</td>\n",
       "      <td>0</td>\n",
       "      <td>1</td>\n",
       "      <td>1</td>\n",
       "      <td>0</td>\n",
       "    </tr>\n",
       "    <tr>\n",
       "      <th>1</th>\n",
       "      <td>0</td>\n",
       "      <td>0</td>\n",
       "      <td>1</td>\n",
       "      <td>1</td>\n",
       "      <td>0</td>\n",
       "      <td>0</td>\n",
       "      <td>1</td>\n",
       "      <td>0</td>\n",
       "      <td>0</td>\n",
       "      <td>0</td>\n",
       "      <td>1</td>\n",
       "    </tr>\n",
       "  </tbody>\n",
       "</table>\n",
       "</div>"
      ],
      "text/plain": [
       "   Outlook_O  Outlook_R  Outlook_S  Temp_C  Temp_H  Temp_M  Humidity_High  \\\n",
       "0          0          1          0       0       0       1              0   \n",
       "1          0          0          1       1       0       0              1   \n",
       "\n",
       "   Humidity_Low  Humidity_Normal  Wind_F  Wind_T  \n",
       "0             0                1       1       0  \n",
       "1             0                0       0       1  "
      ]
     },
     "execution_count": 13,
     "metadata": {},
     "output_type": "execute_result"
    }
   ],
   "source": [
    "# (1) What will be the value of Play, if Outlook is ’Rainy’, Temperature is ’Mild’, Humidity =’Normal’, and Wind = ’False’?\n",
    "# (2) What will be the value of Play, if Outlook is ’Sunny’, Temeprature is ’Cool’, Humidity =’High’, and Wind = ’True’?\n",
    "'''\n",
    "Rainy = 0,1,0\n",
    "Mild = 0,0,1\n",
    "Normal = 0,0,1\n",
    "False = 1,0\n",
    "'''\n",
    "case1 = [0,1,0,0,0,1,0,0,1,1,0]\n",
    "\n",
    "'''\n",
    "Sunny = 0,0,1\n",
    "Cool = 1,0,0\n",
    "High = 1,0,0\n",
    "True = 0,1\n",
    "'''\n",
    "case2 = [0,0,1,1,0,0,1,0,0,0,1]\n",
    "\n",
    "\n",
    "features = ds1.columns.tolist()\n",
    "features.remove(\"Play\")\n",
    "data_frame = pd.DataFrame([case1,case2], columns = features)\n",
    "data_frame.head()\n"
   ]
  },
  {
   "cell_type": "code",
   "execution_count": 14,
   "id": "c6530dcb",
   "metadata": {},
   "outputs": [
    {
     "name": "stdout",
     "output_type": "stream",
     "text": [
      "Prediction on whether play or not:\n",
      "case1: Y\tcase2: Y\n"
     ]
    }
   ],
   "source": [
    "pred = gnb.predict(data_frame)\n",
    "print(\"Prediction on whether play or not:\\ncase1: {}\\tcase2: {}\".format(pred[0],pred[1]))"
   ]
  },
  {
   "cell_type": "code",
   "execution_count": null,
   "id": "60afef20",
   "metadata": {},
   "outputs": [],
   "source": []
  },
  {
   "cell_type": "code",
   "execution_count": null,
   "id": "e4134ac4",
   "metadata": {},
   "outputs": [],
   "source": []
  }
 ],
 "metadata": {
  "kernelspec": {
   "display_name": "Python 3",
   "language": "python",
   "name": "python3"
  },
  "language_info": {
   "codemirror_mode": {
    "name": "ipython",
    "version": 3
   },
   "file_extension": ".py",
   "mimetype": "text/x-python",
   "name": "python",
   "nbconvert_exporter": "python",
   "pygments_lexer": "ipython3",
   "version": "3.9.0"
  }
 },
 "nbformat": 4,
 "nbformat_minor": 5
}
