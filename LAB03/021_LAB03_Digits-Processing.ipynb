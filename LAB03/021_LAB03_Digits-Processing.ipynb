{
 "cells": [
  {
   "cell_type": "code",
   "execution_count": 1,
   "id": "9b78de9c",
   "metadata": {},
   "outputs": [],
   "source": [
    "# Importing needful libraries\n",
    "\n",
    "import numpy as np\n",
    "import pandas as pd\n",
    "import matplotlib.pyplot as plt\n",
    "from sklearn import datasets, preprocessing\n",
    "\n",
    "# naive and gaussian model\n",
    "from sklearn.naive_bayes import GaussianNB, MultinomialNB\n",
    "from sklearn.model_selection import train_test_split\n",
    "\n",
    "# for accuracy\n",
    "from sklearn import metrics\n",
    "\n",
    "# print precision and recall\n",
    "from sklearn.metrics import precision_score\n",
    "from sklearn.metrics import recall_score\n",
    "from sklearn.datasets import load_digits"
   ]
  },
  {
   "cell_type": "code",
   "execution_count": 2,
   "id": "71d47531",
   "metadata": {},
   "outputs": [
    {
     "data": {
      "image/png": "[encoded data removed]",
      "text/plain": [
       "<Figure size 1440x1440 with 10 Axes>"
      ]
     },
     "metadata": {
      "needs_background": "light"
     },
     "output_type": "display_data"
    }
   ],
   "source": [
    "# Loading digits dataset from sklearn\n",
    "\n",
    "main_data = load_digits()\n",
    "\n",
    "plt.figure(figsize = (20, 20))\n",
    "\n",
    "for i in range(10):\n",
    "    plt.subplot(8, 8, i + 1)\n",
    "    plt.imshow(main_data.images[i])"
   ]
  },
  {
   "cell_type": "code",
   "execution_count": 3,
   "id": "7df2b292",
   "metadata": {},
   "outputs": [],
   "source": [
    "from sklearn.model_selection import train_test_split\n",
    "\n",
    "X_train, X_test, Y_train, Y_test = train_test_split(main_data.data, main_data.target, test_size = 0.20, random_state = 21) "
   ]
  },
  {
   "cell_type": "code",
   "execution_count": 4,
   "id": "0d4d07df",
   "metadata": {},
   "outputs": [
    {
     "name": "stdout",
     "output_type": "stream",
     "text": [
      "Accuracy :- 0.8194444444444444\n"
     ]
    }
   ],
   "source": [
    "# Gaussina models\n",
    "\n",
    "gnb = GaussianNB()\n",
    "\n",
    "# train model\n",
    "gnb.fit(X_train, Y_train)\n",
    "\n",
    "# training completed\n",
    "Y_predicted = gnb.predict(X_test)\n",
    "\n",
    "print(f\"Accuracy :- {metrics.accuracy_score(Y_test, Y_predicted)}\")"
   ]
  },
  {
   "cell_type": "code",
   "execution_count": 5,
   "id": "861d8924",
   "metadata": {},
   "outputs": [
    {
     "data": {
      "text/plain": [
       "array([[ 0.,  0.,  7., 15., 13.,  1.,  0.,  0.],\n",
       "       [ 0.,  8., 13.,  6., 15.,  4.,  0.,  0.],\n",
       "       [ 0.,  2.,  1., 13., 13.,  0.,  0.,  0.],\n",
       "       [ 0.,  0.,  2., 15., 11.,  1.,  0.,  0.],\n",
       "       [ 0.,  0.,  0.,  1., 12., 12.,  1.,  0.],\n",
       "       [ 0.,  0.,  0.,  0.,  1., 10.,  8.,  0.],\n",
       "       [ 0.,  0.,  8.,  4.,  5., 14.,  9.,  0.],\n",
       "       [ 0.,  0.,  7., 13., 13.,  9.,  0.,  0.]])"
      ]
     },
     "execution_count": 5,
     "metadata": {},
     "output_type": "execute_result"
    }
   ],
   "source": [
    "main_data.images[3]"
   ]
  },
  {
   "cell_type": "code",
   "execution_count": 6,
   "id": "c82fb7ae",
   "metadata": {},
   "outputs": [
    {
     "data": {
      "image/png": "[encoded data removed]",
      "text/plain": [
       "<Figure size 720x216 with 4 Axes>"
      ]
     },
     "metadata": {
      "needs_background": "light"
     },
     "output_type": "display_data"
    }
   ],
   "source": [
    "_, axes = plt.subplots(nrows=1, ncols=4, figsize=(10, 3))\n",
    "for ax, image, prediction in zip(axes, X_test, Y_predicted):\n",
    "    ax.set_axis_off()\n",
    "    image = image.reshape(8, 8)\n",
    "    ax.imshow(image, cmap=plt.cm.gray_r, interpolation='nearest')\n",
    "    ax.set_title(f'Prediction: {prediction}')"
   ]
  },
  {
   "cell_type": "code",
   "execution_count": 7,
   "id": "5ef4ae31",
   "metadata": {},
   "outputs": [
    {
     "name": "stdout",
     "output_type": "stream",
     "text": [
      "Classification report for classifier GaussianNB():\n",
      "              precision    recall  f1-score   support\n",
      "\n",
      "           0       1.00      0.97      0.98        32\n",
      "           1       0.84      0.72      0.78        36\n",
      "           2       0.90      0.63      0.75        30\n",
      "           3       0.93      0.68      0.79        41\n",
      "           4       0.93      0.78      0.85        32\n",
      "           5       0.95      0.91      0.93        46\n",
      "           6       1.00      1.00      1.00        32\n",
      "           7       0.74      1.00      0.85        40\n",
      "           8       0.52      0.86      0.65        42\n",
      "           9       0.76      0.55      0.64        29\n",
      "\n",
      "    accuracy                           0.82       360\n",
      "   macro avg       0.86      0.81      0.82       360\n",
      "weighted avg       0.85      0.82      0.82       360\n",
      "\n",
      "\n"
     ]
    }
   ],
   "source": [
    "print(f\"Classification report for classifier {gnb}:\\n\"\n",
    "      f\"{metrics.classification_report(Y_test, Y_predicted)}\\n\")"
   ]
  },
  {
   "cell_type": "code",
   "execution_count": 8,
   "id": "885d204b",
   "metadata": {},
   "outputs": [
    {
     "name": "stdout",
     "output_type": "stream",
     "text": [
      "Confusion matrix:\n",
      "[[31  0  0  0  1  0  0  0  0  0]\n",
      " [ 0 26  0  0  0  0  0  1  4  5]\n",
      " [ 0  1 19  0  0  0  0  0 10  0]\n",
      " [ 0  0  1 28  0  0  0  2 10  0]\n",
      " [ 0  0  0  0 25  1  0  6  0  0]\n",
      " [ 0  0  0  1  0 42  0  1  2  0]\n",
      " [ 0  0  0  0  0  0 32  0  0  0]\n",
      " [ 0  0  0  0  0  0  0 40  0  0]\n",
      " [ 0  1  1  1  0  1  0  2 36  0]\n",
      " [ 0  3  0  0  1  0  0  2  7 16]]\n"
     ]
    },
    {
     "data": {
      "image/png": "[encoded data removed]",
      "text/plain": [
       "<Figure size 432x288 with 2 Axes>"
      ]
     },
     "metadata": {
      "needs_background": "light"
     },
     "output_type": "display_data"
    }
   ],
   "source": [
    "disp = metrics.plot_confusion_matrix(gnb, X_test, Y_test)\n",
    "disp.figure_.suptitle(\"Confusion Matrix\")\n",
    "print(f\"Confusion matrix:\\n{disp.confusion_matrix}\")\n",
    "\n",
    "plt.show()"
   ]
  },
  {
   "cell_type": "code",
   "execution_count": null,
   "id": "8d19a2c3",
   "metadata": {},
   "outputs": [],
   "source": []
  }
 ],
 "metadata": {
  "kernelspec": {
   "display_name": "Python 3",
   "language": "python",
   "name": "python3"
  },
  "language_info": {
   "codemirror_mode": {
    "name": "ipython",
    "version": 3
   },
   "file_extension": ".py",
   "mimetype": "text/x-python",
   "name": "python",
   "nbconvert_exporter": "python",
   "pygments_lexer": "ipython3",
   "version": "3.9.0"
  }
 },
 "nbformat": 4,
 "nbformat_minor": 5
}
