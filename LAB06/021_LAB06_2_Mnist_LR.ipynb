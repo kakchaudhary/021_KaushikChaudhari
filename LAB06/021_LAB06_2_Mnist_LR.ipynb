{
  "nbformat": 4,
  "nbformat_minor": 0,
  "metadata": {
    "colab": {
      "name": "021_LAB06_2_Mnist_LR.ipynb",
      "provenance": []
    },
    "kernelspec": {
      "name": "python3",
      "display_name": "Python 3"
    },
    "language_info": {
      "name": "python"
    }
  },
  "cells": [
    {
      "cell_type": "code",
      "metadata": {
        "id": "uApBwprTBMxU"
      },
      "source": [
        "from __future__ import absolute_import, division, print_function\n",
        "\n",
        "import tensorflow as tf\n",
        "\n",
        "import numpy as np\n"
      ],
      "execution_count": 2,
      "outputs": []
    },
    {
      "cell_type": "code",
      "metadata": {
        "colab": {
          "base_uri": "https://localhost:8080/"
        },
        "id": "KKW_McJTBWdi",
        "outputId": "a35cb446-95c5-47ae-c401-1a7edb4fe5cc"
      },
      "source": [
        "\"\"\"MNIST data set. MNIST data is a collection of hand-written digits that contains 60,000 examples for training and 10,000 examples for testing. The digits have been size-normalized and centered in a fixed-size image (28x28 pixels) with values from 0 to 255. \n",
        "\n",
        "Next for each image we will:\n",
        "\n",
        "1) converted it to float32\n",
        "\n",
        "2) normalized to [0, 1]\n",
        "\n",
        "3) flattened to a 1-D array of 784 features (28*28).\n",
        "\n",
        "#Step 2: Loading and Preparing the MNIST Data Set\n",
        "\"\"\"\n",
        "from tensorflow.keras.datasets import mnist\n",
        "\n",
        "(x_train, y_train), (x_test, y_test) = mnist.load_data()\n",
        "\n",
        "# Convert to float32.\n",
        "\n",
        "x_train, x_test = np.array(x_train, np.float32), np.array(x_test, np.float32)\n",
        "\n",
        "# Flatten images to 1-D vector of 784 features (28*28).\n",
        "num_features=784\n",
        "x_train, x_test = x_train.reshape([-1, num_features]), x_test.reshape([-1, num_features])\n",
        "\n",
        "\n",
        "# Normalize images value from [0, 255] to [0, 1].\n",
        "x_train, x_test = x_train / 255., x_test / 255.\n"
      ],
      "execution_count": 3,
      "outputs": [
        {
          "output_type": "stream",
          "name": "stdout",
          "text": [
            "Downloading data from https://storage.googleapis.com/tensorflow/tf-keras-datasets/mnist.npz\n",
            "11493376/11490434 [==============================] - 0s 0us/step\n",
            "11501568/11490434 [==============================] - 0s 0us/step\n"
          ]
        }
      ]
    },
    {
      "cell_type": "code",
      "metadata": {
        "id": "sfz-nIGtBbbY"
      },
      "source": [
        "\"\"\"#Step 3: Setting Up Hyperparameters and Data Set Parameters\n",
        "\n",
        "Initialize the model parameters. \n",
        "\n",
        "num_classes denotes the number of outputs, which is 10, as we have digits from 0 to 9 in the data set. \n",
        "\n",
        "num_features defines the number of input parameters, and we store 784 since each image contains 784 pixels.\n",
        "\"\"\"\n",
        "# MNIST dataset parameters.\n",
        "\n",
        "num_classes = 10 # 0 to 9 digits\n",
        "\n",
        "num_features = 784 # 28*28\n",
        "\n",
        "# Training parameters.\n",
        "\n",
        "learning_rate = 0.01\n",
        "\n",
        "training_steps = 1000\n",
        "\n",
        "batch_size = 256\n",
        "\n",
        "display_step = 50\n"
      ],
      "execution_count": 4,
      "outputs": []
    },
    {
      "cell_type": "code",
      "metadata": {
        "id": "6aEy01PnBd7d"
      },
      "source": [
        "\"\"\"#Step 4: Shuffling and Batching the Data\n",
        "\n",
        "We need to shuffle and batch the data before we start the actual training to avoid the model from getting biased by the data. This will allow our data to be more random and helps our model to gain higher accuracies with the test data.\n",
        "\n",
        "With the help of tf.data.Dataset.from_tensor_slices, we can get the slices of an array in the form of objects. \n",
        "\n",
        "The function shuffle(5000) randomizes the order of the data set’s examples. \n",
        "\n",
        "Here, 5000 denotes the variable shuffle_buffer, which tells the model to pick a sample randomly from 1 to 5000 samples. \n",
        "\n",
        "After that, there are only 4999 samples left in the buffer, so the sample 5001 gets added to the buffer. \n",
        "\"\"\"\n",
        "\n",
        "# Use tf.data API to shuffle and batch data.\n",
        "train_data=tf.data.Dataset.from_tensor_slices((x_train,y_train))\n",
        "\n",
        "train_data=train_data.repeat().shuffle(5000).batch(batch_size).prefetch(1)\n"
      ],
      "execution_count": 5,
      "outputs": []
    },
    {
      "cell_type": "code",
      "metadata": {
        "id": "bloYiFKHBhY7"
      },
      "source": [
        "\"\"\"#Step 5: Initializing Weights and Biases\n",
        "\n",
        "We now initialize the weights vector and bias vector with ones and zeros.\n",
        "\"\"\"\n",
        "\n",
        "# Weight of shape [784, 10], the 28*28 image features, and a total number of classes.\n",
        "\n",
        "W = tf.Variable(tf.ones([num_features, num_classes]), name=\"weight\")\n",
        "\n",
        "# Bias of shape [10], the total number of classes.\n",
        "b = tf.Variable(tf.zeros([num_classes]), name=\"bias\")\n"
      ],
      "execution_count": 6,
      "outputs": []
    },
    {
      "cell_type": "code",
      "metadata": {
        "id": "UC6phyIFBlya"
      },
      "source": [
        "\"\"\"#Step 6: Defining Logistic Regression and Cost Function\n",
        "\n",
        "We define the logistic_regression function below, which converts the inputs into a probability distribution proportional to the exponents of the inputs using the softmax function. The softmax function, which is implemented using the function tf.nn.softmax, also makes sure that the sum of all the inputs equals one.\n",
        "\"\"\"\n",
        "\n",
        "# Logistic regression (Wx + b).\n",
        "\n",
        "def logistic_regression(x):    \n",
        "    return tf.nn.softmax(tf.matmul(x, W) + b)\n",
        "    \n",
        "\n",
        "# Cross-Entropy loss function.\n",
        "\n",
        "def cross_entropy(y_pred, y_true):\n",
        "\n",
        "    # Encode label to a one hot vector.\n",
        "    y_true = tf.one_hot(y_true, depth=num_classes)\n",
        "    \n",
        "\n",
        "    # Clip prediction values to avoid log(0) error.\n",
        "    y_pred = tf.clip_by_value(y_pred, 1e-9, 1.)\n",
        "    \n",
        "\n",
        "    # Compute cross-entropy.\n",
        "    return tf.reduce_mean(-tf.reduce_sum(y_true * tf.math.log(y_pred)))\n"
      ],
      "execution_count": 7,
      "outputs": []
    },
    {
      "cell_type": "code",
      "metadata": {
        "id": "26QkqGqXBqP3"
      },
      "source": [
        "\"\"\"#Step 7: Defining Optimizers and Accuracy Metrics\n",
        "When we compute the output, it gives us the probability of the given data to fit a particular class of output. \n",
        "\n",
        "We consider the correct prediction as to the class having the highest probability. \n",
        "\n",
        "We compute this using the function tf.argmax. \n",
        "\n",
        "We also define the stochastic gradient descent as the optimizer from several optimizers present in TensorFlow. We do this using the function tf.optimizers.SGD. \n",
        "\n",
        "This function takes in the learning rate as its input, which defines how fast the model should reach its minimum loss or gain the highest accuracy.\n",
        "\"\"\"\n",
        "\n",
        "# Accuracy metric.\n",
        "\n",
        "def accuracy(y_pred, y_true):\n",
        "\n",
        "  # Predicted class is the index of the highest score in prediction vector (i.e. argmax).\n",
        "\n",
        "  correct_prediction = tf.equal(tf.argmax(y_pred, 1), tf.cast(y_true, tf.int64))\n",
        "\n",
        "  return tf.reduce_mean(tf.cast(correct_prediction, tf.float32))\n"
      ],
      "execution_count": 8,
      "outputs": []
    },
    {
      "cell_type": "code",
      "metadata": {
        "id": "x9LKTFd7BtMH"
      },
      "source": [
        "\"\"\"#Step 8: Optimization Process and Updating Weights and Biases\n",
        "Now we define the run_optimization() method where we update the weights of our model. We calculate the predictions using the logistic_regression(x) method by taking the inputs and find out the loss generated by comparing the predicted value and the original value present in the data set. Next, we compute the gradients using and update the weights of the model with our stochastic gradient descent optimizer.\n",
        "\"\"\"\n",
        "\n",
        "# Optimization process. \n",
        "\n",
        "def run_optimization(x, y):\n",
        "\n",
        "# Wrap computation inside a GradientTape for automatic differentiation.\n",
        "  with tf.GradientTape() as g:\n",
        "    pred = logistic_regression(x)\n",
        "    loss = cross_entropy(pred, y)\n",
        "\n",
        "    # Compute gradients.\n",
        "  gradients = g.gradient(loss, [W, b])\n",
        "  optimizer = tf.optimizers.SGD(learning_rate)\n",
        "    \n",
        "    # Update W and b following gradients.\n",
        "\n",
        "  optimizer.apply_gradients(zip(gradients, [W, b]))\n"
      ],
      "execution_count": 9,
      "outputs": []
    },
    {
      "cell_type": "code",
      "metadata": {
        "colab": {
          "base_uri": "https://localhost:8080/"
        },
        "id": "RTzg2OLFBwfD",
        "outputId": "622d19b2-b840-42f2-ccca-b0d1b992f679"
      },
      "source": [
        "\"\"\"#Step 9: The Training Loop\"\"\"\n",
        "\n",
        "# Run training for the given number of steps.\n",
        "\n",
        "for step, (batch_x, batch_y) in enumerate(train_data.take(training_steps), 1):\n",
        "\n",
        "    # Run the optimization to update W and b values.\n",
        "\n",
        "    run_optimization(batch_x, batch_y)\n",
        "\n",
        "    \n",
        "\n",
        "    if step % display_step == 0:\n",
        "\n",
        "        pred = logistic_regression(batch_x)\n",
        "       \n",
        "        loss = cross_entropy(pred, batch_y)\n",
        "        \n",
        "        acc = accuracy(pred, batch_y)\n",
        "        \n",
        "        print(\"step: %i, loss: %f, accuracy: %f\" % (step, loss, acc))\n"
      ],
      "execution_count": 10,
      "outputs": [
        {
          "output_type": "stream",
          "name": "stdout",
          "text": [
            "step: 50, loss: 675.856689, accuracy: 0.777344\n",
            "step: 100, loss: 779.510925, accuracy: 0.781250\n",
            "step: 150, loss: 424.103607, accuracy: 0.855469\n",
            "step: 200, loss: 626.632568, accuracy: 0.839844\n",
            "step: 250, loss: 480.828278, accuracy: 0.843750\n",
            "step: 300, loss: 80.108856, accuracy: 0.921875\n",
            "step: 350, loss: 116.020813, accuracy: 0.894531\n",
            "step: 400, loss: 92.426117, accuracy: 0.910156\n",
            "step: 450, loss: 71.277168, accuracy: 0.929688\n",
            "step: 500, loss: 57.036423, accuracy: 0.957031\n",
            "step: 550, loss: 83.827881, accuracy: 0.882812\n",
            "step: 600, loss: 64.875610, accuracy: 0.929688\n",
            "step: 650, loss: 66.445488, accuracy: 0.937500\n",
            "step: 700, loss: 69.423050, accuracy: 0.945312\n",
            "step: 750, loss: 56.389374, accuracy: 0.941406\n",
            "step: 800, loss: 80.270981, accuracy: 0.941406\n",
            "step: 850, loss: 77.873734, accuracy: 0.882812\n",
            "step: 900, loss: 62.393009, accuracy: 0.917969\n",
            "step: 950, loss: 79.468834, accuracy: 0.925781\n",
            "step: 1000, loss: 103.736679, accuracy: 0.910156\n"
          ]
        }
      ]
    },
    {
      "cell_type": "code",
      "metadata": {
        "colab": {
          "base_uri": "https://localhost:8080/"
        },
        "id": "YzDYXlU1B0En",
        "outputId": "a18ae202-968f-4ae5-dcb9-71e5564bdafa"
      },
      "source": [
        "\"\"\"#Step 10: Testing Model Accuracy Using the Test Data\n",
        "\n",
        "Finally, we check the model accuracy by sending the test data set into our model and compute the accuracy using the accuracy function that we defined earlier.\n",
        "\"\"\"\n",
        "\n",
        "# Test model on validation set.\n",
        "pred = logistic_regression(x_test)\n",
        "\n",
        "print(\"Test Accuracy: %f\" % accuracy(pred, y_test))"
      ],
      "execution_count": 11,
      "outputs": [
        {
          "output_type": "stream",
          "name": "stdout",
          "text": [
            "Test Accuracy: 0.904400\n"
          ]
        }
      ]
    }
  ]
}