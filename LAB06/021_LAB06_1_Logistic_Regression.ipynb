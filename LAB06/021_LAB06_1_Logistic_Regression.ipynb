{
 "cells": [
  {
   "cell_type": "code",
   "execution_count": 1,
   "id": "7d9412c2",
   "metadata": {},
   "outputs": [],
   "source": [
    "#Importing libraries\n",
    "import numpy as np \n",
    "import pandas as pd \n",
    "import io\n",
    "import matplotlib.pyplot as plt"
   ]
  },
  {
   "cell_type": "code",
   "execution_count": 2,
   "id": "6026c844",
   "metadata": {},
   "outputs": [
    {
     "data": {
      "text/html": [
       "<div>\n",
       "<style scoped>\n",
       "    .dataframe tbody tr th:only-of-type {\n",
       "        vertical-align: middle;\n",
       "    }\n",
       "\n",
       "    .dataframe tbody tr th {\n",
       "        vertical-align: top;\n",
       "    }\n",
       "\n",
       "    .dataframe thead th {\n",
       "        text-align: right;\n",
       "    }\n",
       "</style>\n",
       "<table border=\"1\" class=\"dataframe\">\n",
       "  <thead>\n",
       "    <tr style=\"text-align: right;\">\n",
       "      <th></th>\n",
       "      <th>Age</th>\n",
       "      <th>EstimatedSalary</th>\n",
       "      <th>Purchased</th>\n",
       "    </tr>\n",
       "  </thead>\n",
       "  <tbody>\n",
       "    <tr>\n",
       "      <th>0</th>\n",
       "      <td>19</td>\n",
       "      <td>19000</td>\n",
       "      <td>0</td>\n",
       "    </tr>\n",
       "    <tr>\n",
       "      <th>1</th>\n",
       "      <td>35</td>\n",
       "      <td>20000</td>\n",
       "      <td>0</td>\n",
       "    </tr>\n",
       "    <tr>\n",
       "      <th>2</th>\n",
       "      <td>26</td>\n",
       "      <td>43000</td>\n",
       "      <td>0</td>\n",
       "    </tr>\n",
       "    <tr>\n",
       "      <th>3</th>\n",
       "      <td>27</td>\n",
       "      <td>57000</td>\n",
       "      <td>0</td>\n",
       "    </tr>\n",
       "    <tr>\n",
       "      <th>4</th>\n",
       "      <td>19</td>\n",
       "      <td>76000</td>\n",
       "      <td>0</td>\n",
       "    </tr>\n",
       "  </tbody>\n",
       "</table>\n",
       "</div>"
      ],
      "text/plain": [
       "   Age  EstimatedSalary  Purchased\n",
       "0   19            19000          0\n",
       "1   35            20000          0\n",
       "2   26            43000          0\n",
       "3   27            57000          0\n",
       "4   19            76000          0"
      ]
     },
     "execution_count": 2,
     "metadata": {},
     "output_type": "execute_result"
    }
   ],
   "source": [
    "# reading the csv file, del 2 columns from the file, checking first few rows of the file\n",
    "data = pd.read_csv('BuyComputer.csv')\n",
    "data.drop(columns=['User ID',],axis=1,inplace=True)\n",
    "data.head()"
   ]
  },
  {
   "cell_type": "code",
   "execution_count": 3,
   "id": "85ad70c6",
   "metadata": {},
   "outputs": [
    {
     "data": {
      "text/plain": [
       "0      0\n",
       "1      0\n",
       "2      0\n",
       "3      0\n",
       "4      0\n",
       "      ..\n",
       "395    1\n",
       "396    1\n",
       "397    1\n",
       "398    0\n",
       "399    1\n",
       "Name: Purchased, Length: 400, dtype: int64"
      ]
     },
     "execution_count": 3,
     "metadata": {},
     "output_type": "execute_result"
    }
   ],
   "source": [
    "#Declare label as last column in the source file\n",
    "label=data['Purchased']\n",
    "label"
   ]
  },
  {
   "cell_type": "code",
   "execution_count": 4,
   "id": "f3c50da8",
   "metadata": {},
   "outputs": [
    {
     "data": {
      "text/html": [
       "<div>\n",
       "<style scoped>\n",
       "    .dataframe tbody tr th:only-of-type {\n",
       "        vertical-align: middle;\n",
       "    }\n",
       "\n",
       "    .dataframe tbody tr th {\n",
       "        vertical-align: top;\n",
       "    }\n",
       "\n",
       "    .dataframe thead th {\n",
       "        text-align: right;\n",
       "    }\n",
       "</style>\n",
       "<table border=\"1\" class=\"dataframe\">\n",
       "  <thead>\n",
       "    <tr style=\"text-align: right;\">\n",
       "      <th></th>\n",
       "      <th>Age</th>\n",
       "      <th>EstimatedSalary</th>\n",
       "    </tr>\n",
       "  </thead>\n",
       "  <tbody>\n",
       "    <tr>\n",
       "      <th>0</th>\n",
       "      <td>19</td>\n",
       "      <td>19000</td>\n",
       "    </tr>\n",
       "    <tr>\n",
       "      <th>1</th>\n",
       "      <td>35</td>\n",
       "      <td>20000</td>\n",
       "    </tr>\n",
       "    <tr>\n",
       "      <th>2</th>\n",
       "      <td>26</td>\n",
       "      <td>43000</td>\n",
       "    </tr>\n",
       "    <tr>\n",
       "      <th>3</th>\n",
       "      <td>27</td>\n",
       "      <td>57000</td>\n",
       "    </tr>\n",
       "    <tr>\n",
       "      <th>4</th>\n",
       "      <td>19</td>\n",
       "      <td>76000</td>\n",
       "    </tr>\n",
       "    <tr>\n",
       "      <th>...</th>\n",
       "      <td>...</td>\n",
       "      <td>...</td>\n",
       "    </tr>\n",
       "    <tr>\n",
       "      <th>395</th>\n",
       "      <td>46</td>\n",
       "      <td>41000</td>\n",
       "    </tr>\n",
       "    <tr>\n",
       "      <th>396</th>\n",
       "      <td>51</td>\n",
       "      <td>23000</td>\n",
       "    </tr>\n",
       "    <tr>\n",
       "      <th>397</th>\n",
       "      <td>50</td>\n",
       "      <td>20000</td>\n",
       "    </tr>\n",
       "    <tr>\n",
       "      <th>398</th>\n",
       "      <td>36</td>\n",
       "      <td>33000</td>\n",
       "    </tr>\n",
       "    <tr>\n",
       "      <th>399</th>\n",
       "      <td>49</td>\n",
       "      <td>36000</td>\n",
       "    </tr>\n",
       "  </tbody>\n",
       "</table>\n",
       "<p>400 rows × 2 columns</p>\n",
       "</div>"
      ],
      "text/plain": [
       "     Age  EstimatedSalary\n",
       "0     19            19000\n",
       "1     35            20000\n",
       "2     26            43000\n",
       "3     27            57000\n",
       "4     19            76000\n",
       "..   ...              ...\n",
       "395   46            41000\n",
       "396   51            23000\n",
       "397   50            20000\n",
       "398   36            33000\n",
       "399   49            36000\n",
       "\n",
       "[400 rows x 2 columns]"
      ]
     },
     "execution_count": 4,
     "metadata": {},
     "output_type": "execute_result"
    }
   ],
   "source": [
    "#Declaring X as all columns excluding last\n",
    "X=data[['Age','EstimatedSalary']]\n",
    "X"
   ]
  },
  {
   "cell_type": "code",
   "execution_count": 5,
   "id": "6070d186",
   "metadata": {},
   "outputs": [
    {
     "data": {
      "text/plain": [
       "(     Age  EstimatedSalary\n",
       " 113   37            55000\n",
       " 26    49            28000\n",
       " 178   24            23000\n",
       " 95    35            44000\n",
       " 29    31            18000\n",
       " ..   ...              ...\n",
       " 368   38            71000\n",
       " 48    30           135000\n",
       " 260   35            77000\n",
       " 312   38            50000\n",
       " 207   52           114000\n",
       " \n",
       " [280 rows x 2 columns],\n",
       "      Age  EstimatedSalary\n",
       " 106   26            35000\n",
       " 9     35            65000\n",
       " 61    25            87000\n",
       " 224   35            60000\n",
       " 37    30            49000\n",
       " ..   ...              ...\n",
       " 23    45            22000\n",
       " 157   29            75000\n",
       " 349   38            61000\n",
       " 255   52            90000\n",
       " 180   26            16000\n",
       " \n",
       " [120 rows x 2 columns],\n",
       " 113    0\n",
       " 26     1\n",
       " 178    0\n",
       " 95     0\n",
       " 29     0\n",
       "       ..\n",
       " 368    0\n",
       " 48     1\n",
       " 260    0\n",
       " 312    0\n",
       " 207    0\n",
       " Name: Purchased, Length: 280, dtype: int64,\n",
       " 106    0\n",
       " 9      0\n",
       " 61     0\n",
       " 224    0\n",
       " 37     0\n",
       "       ..\n",
       " 23     1\n",
       " 157    0\n",
       " 349    0\n",
       " 255    1\n",
       " 180    0\n",
       " Name: Purchased, Length: 120, dtype: int64)"
      ]
     },
     "execution_count": 5,
     "metadata": {},
     "output_type": "execute_result"
    }
   ],
   "source": [
    "# Splitting data\n",
    "from sklearn.model_selection import train_test_split\n",
    "X_train, X_test, y_train, y_test = train_test_split(X,label,test_size=0.3,random_state=21)\n",
    "X_train, X_test, y_train, y_test"
   ]
  },
  {
   "cell_type": "code",
   "execution_count": 6,
   "id": "14c3e3e7",
   "metadata": {},
   "outputs": [],
   "source": [
    "# Sacaling data\n",
    "from sklearn.preprocessing import StandardScaler\n",
    "sc = StandardScaler()\n",
    "X_train = sc.fit_transform(X_train)\n",
    "X_test = sc.transform(X_test)"
   ]
  },
  {
   "cell_type": "code",
   "execution_count": 7,
   "id": "cd93a374",
   "metadata": {},
   "outputs": [
    {
     "name": "stdout",
     "output_type": "stream",
     "text": [
      "2\n"
     ]
    }
   ],
   "source": [
    "y_pred = []\n",
    "len_x = len(X_train[0])\n",
    "w = []\n",
    "b = 0.2\n",
    "print(len_x)"
   ]
  },
  {
   "cell_type": "code",
   "execution_count": 8,
   "id": "f41b9ae1",
   "metadata": {},
   "outputs": [
    {
     "data": {
      "text/plain": [
       "280"
      ]
     },
     "execution_count": 8,
     "metadata": {},
     "output_type": "execute_result"
    }
   ],
   "source": [
    "entries = len(X_train[:,0])\n",
    "entries"
   ]
  },
  {
   "cell_type": "code",
   "execution_count": 9,
   "id": "7447e10d",
   "metadata": {},
   "outputs": [
    {
     "data": {
      "text/plain": [
       "[0, 0]"
      ]
     },
     "execution_count": 9,
     "metadata": {},
     "output_type": "execute_result"
    }
   ],
   "source": [
    "for weights in range(len_x):\n",
    "    w.append(0)\n",
    "w"
   ]
  },
  {
   "cell_type": "code",
   "execution_count": 10,
   "id": "1f119355",
   "metadata": {},
   "outputs": [],
   "source": [
    "# Sigmoid function\n",
    "def sigmoid(z):\n",
    "  return 1/(1+np.exp(-z))\n",
    "\n",
    "def predict(inputs,w):\n",
    "    z=np.dot(inputs,w)\n",
    "    return sigmoid(z)"
   ]
  },
  {
   "cell_type": "code",
   "execution_count": 11,
   "id": "53799a57",
   "metadata": {},
   "outputs": [],
   "source": [
    "#Loss function\n",
    "def loss_func(features,labels,w):\n",
    "    observations = len(labels)\n",
    "    predictions = predict(features, w)\n",
    "    class1_cost = -labels*np.log(predictions)\n",
    "    class2_cost = (1-labels)*np.log(1-predictions)\n",
    "    cost = class1_cost - class2_cost\n",
    "    cost = cost.sum() / observations\n",
    "    return cost\n",
    "\n",
    "dw = []\n",
    "db = 0\n",
    "J = 0\n",
    "alpha = 0.1\n",
    "for x in range(len_x):\n",
    "    dw.append(0)"
   ]
  },
  {
   "cell_type": "code",
   "execution_count": 12,
   "id": "d1396d4c",
   "metadata": {},
   "outputs": [],
   "source": [
    "def update_weights(features, labels, weights, lr):    \n",
    "    \n",
    "    N = len(features)    \n",
    "    predictions = predict(features, weights)    \n",
    "    gradient = np.dot(features.T,  predictions - labels)    \n",
    "    gradient /= N    \n",
    "    gradient *= lr    \n",
    "    weights -= gradient\n",
    "\n",
    "    return weights\n"
   ]
  },
  {
   "cell_type": "code",
   "execution_count": 13,
   "id": "5a51a8ee",
   "metadata": {},
   "outputs": [
    {
     "name": "stderr",
     "output_type": "stream",
     "text": [
      "<ipython-input-10-acaf05f054f0>:3: RuntimeWarning: overflow encountered in exp\n",
      "  return 1/(1+np.exp(-z))\n",
      "<ipython-input-11-67a72e7969af>:5: RuntimeWarning: divide by zero encountered in log\n",
      "  class1_cost = -labels*np.log(predictions)\n",
      "<ipython-input-11-67a72e7969af>:6: RuntimeWarning: divide by zero encountered in log\n",
      "  class2_cost = (1-labels)*np.log(1-predictions)\n"
     ]
    },
    {
     "name": "stdout",
     "output_type": "stream",
     "text": [
      "iter: 0 cost: inf\n",
      "iter: 1000 cost: inf\n",
      "iter: 2000 cost: inf\n"
     ]
    }
   ],
   "source": [
    "#Repeating the process 3000 times\n",
    "cost_history = []\n",
    "for i in range(3000):\n",
    "    w = update_weights(X, label, w, alpha)\n",
    "\n",
    "    #Calculate error for auditing purposes\n",
    "    cost = loss_func(X, label, w)\n",
    "    cost_history.append(cost)\n",
    "\n",
    "    # Log Progress\n",
    "    if i % 1000 == 0:\n",
    "        print(\"iter: \"+ str(i) + \" cost: \"+str(cost))\n"
   ]
  },
  {
   "cell_type": "code",
   "execution_count": 14,
   "id": "0a821f81",
   "metadata": {},
   "outputs": [
    {
     "data": {
      "text/plain": [
       "0.2"
      ]
     },
     "execution_count": 14,
     "metadata": {},
     "output_type": "execute_result"
    }
   ],
   "source": [
    "#Print weight\n",
    "w\n",
    "\n",
    "#print bias\n",
    "b"
   ]
  },
  {
   "cell_type": "code",
   "execution_count": 15,
   "id": "d819972c",
   "metadata": {},
   "outputs": [
    {
     "name": "stderr",
     "output_type": "stream",
     "text": [
      "<ipython-input-10-acaf05f054f0>:3: RuntimeWarning: overflow encountered in exp\n",
      "  return 1/(1+np.exp(-z))\n"
     ]
    },
    {
     "data": {
      "text/plain": [
       "0.45833333333333337"
      ]
     },
     "execution_count": 15,
     "metadata": {},
     "output_type": "execute_result"
    }
   ],
   "source": [
    "#predicting the label\n",
    "predicted_labels=predict(X_test,w)\n",
    "\n",
    "#print actual and predicted values in a table\n",
    "predicted_labels,label\n",
    "\n",
    "# Calculating accuracy of prediction\n",
    "diff = predicted_labels - y_test\n",
    "acc=1.0 - (float(np.count_nonzero(diff)) / len(diff))\n",
    "acc\n"
   ]
  },
  {
   "cell_type": "code",
   "execution_count": 16,
   "id": "6cfec502",
   "metadata": {},
   "outputs": [
    {
     "data": {
      "text/plain": [
       "array([0, 0, 0, 0, 0, 1, 1, 0, 1, 1, 0, 0, 0, 1, 0, 0, 0, 0, 0, 0, 0, 0,\n",
       "       0, 0, 0, 0, 1, 1, 0, 0, 0, 0, 0, 0, 0, 0, 0, 0, 0, 1, 1, 0, 0, 0,\n",
       "       0, 0, 0, 1, 0, 1, 0, 0, 0, 0, 1, 0, 0, 0, 0, 0, 0, 1, 0, 0, 0, 1,\n",
       "       0, 0, 0, 1, 0, 0, 0, 0, 1, 0, 0, 0, 0, 1, 0, 1, 1, 0, 0, 0, 0, 0,\n",
       "       0, 0, 0, 1, 1, 0, 1, 0, 0, 0, 0, 1, 0, 1, 0, 0, 0, 1, 0, 1, 1, 0,\n",
       "       0, 0, 0, 0, 0, 0, 0, 0, 1, 0], dtype=int64)"
      ]
     },
     "execution_count": 16,
     "metadata": {},
     "output_type": "execute_result"
    }
   ],
   "source": [
    "# Fitting Logistic Regression to the Training set\n",
    "from sklearn.linear_model import LogisticRegression\n",
    "LR = LogisticRegression(random_state = 26)\n",
    "\n",
    "#Fit\n",
    "LR=LR.fit(X_train,y_train)\n",
    "#predicting the test label with LR. Predict always takes X as input\n",
    "y_pred=LR.predict(X_test)\n",
    "y_pred"
   ]
  },
  {
   "cell_type": "code",
   "execution_count": null,
   "id": "8727479e",
   "metadata": {},
   "outputs": [],
   "source": []
  }
 ],
 "metadata": {
  "kernelspec": {
   "display_name": "Python 3",
   "language": "python",
   "name": "python3"
  },
  "language_info": {
   "codemirror_mode": {
    "name": "ipython",
    "version": 3
   },
   "file_extension": ".py",
   "mimetype": "text/x-python",
   "name": "python",
   "nbconvert_exporter": "python",
   "pygments_lexer": "ipython3",
   "version": "3.9.0"
  }
 },
 "nbformat": 4,
 "nbformat_minor": 5
}
